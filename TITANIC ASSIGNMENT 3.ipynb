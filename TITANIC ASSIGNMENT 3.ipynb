{
 "cells": [
  {
   "cell_type": "code",
   "execution_count": 186,
   "id": "ac6a04b2",
   "metadata": {},
   "outputs": [],
   "source": [
    "import warnings\n",
    "warnings.simplefilter(\"ignore\")\n",
    "import joblib\n",
    "\n",
    "import pandas as pd\n",
    "import numpy as np\n",
    "import seaborn as sns\n",
    "import matplotlib.pyplot as plt\n",
    "%matplotlib inline\n",
    "\n",
    "from sklearn.preprocessing import StandardScaler\n",
    "from sklearn.model_selection import train_test_split\n",
    "from sklearn.linear_model import LogisticRegression\n",
    "from sklearn.svm import SVC\n",
    "from sklearn.tree import DecisionTreeClassifier\n",
    "from sklearn.ensemble import RandomForestClassifier\n",
    "from sklearn.ensemble import ExtraTreesClassifier\n",
    "from sklearn.neighbors import KNeighborsClassifier\n",
    "\n",
    "from sklearn import metrics\n",
    "from sklearn.metrics import classification_report\n",
    "from sklearn.metrics import accuracy_score\n",
    "from sklearn.model_selection import cross_val_score\n",
    "from sklearn.model_selection import GridSearchCV"
   ]
  },
  {
   "cell_type": "markdown",
   "id": "cd63832c",
   "metadata": {},
   "source": [
    "Loading the dataset from github"
   ]
  },
  {
   "cell_type": "code",
   "execution_count": 187,
   "id": "5815cb5b",
   "metadata": {},
   "outputs": [],
   "source": [
    "TitanicData  = pd.read_csv('https://raw.githubusercontent.com/dsrscientist/dataset1/master/titanic_train.csv')"
   ]
  },
  {
   "cell_type": "code",
   "execution_count": 188,
   "id": "f759155d",
   "metadata": {},
   "outputs": [
    {
     "data": {
      "text/plain": [
       "(891, 12)"
      ]
     },
     "execution_count": 188,
     "metadata": {},
     "output_type": "execute_result"
    }
   ],
   "source": [
    "TitanicData.shape"
   ]
  },
  {
   "cell_type": "code",
   "execution_count": 189,
   "id": "272e1e28",
   "metadata": {},
   "outputs": [
    {
     "data": {
      "text/html": [
       "<div>\n",
       "<style scoped>\n",
       "    .dataframe tbody tr th:only-of-type {\n",
       "        vertical-align: middle;\n",
       "    }\n",
       "\n",
       "    .dataframe tbody tr th {\n",
       "        vertical-align: top;\n",
       "    }\n",
       "\n",
       "    .dataframe thead th {\n",
       "        text-align: right;\n",
       "    }\n",
       "</style>\n",
       "<table border=\"1\" class=\"dataframe\">\n",
       "  <thead>\n",
       "    <tr style=\"text-align: right;\">\n",
       "      <th></th>\n",
       "      <th>PassengerId</th>\n",
       "      <th>Survived</th>\n",
       "      <th>Pclass</th>\n",
       "      <th>Name</th>\n",
       "      <th>Sex</th>\n",
       "      <th>Age</th>\n",
       "      <th>SibSp</th>\n",
       "      <th>Parch</th>\n",
       "      <th>Ticket</th>\n",
       "      <th>Fare</th>\n",
       "      <th>Cabin</th>\n",
       "      <th>Embarked</th>\n",
       "    </tr>\n",
       "  </thead>\n",
       "  <tbody>\n",
       "    <tr>\n",
       "      <th>0</th>\n",
       "      <td>1</td>\n",
       "      <td>0</td>\n",
       "      <td>3</td>\n",
       "      <td>Braund, Mr. Owen Harris</td>\n",
       "      <td>male</td>\n",
       "      <td>22.0</td>\n",
       "      <td>1</td>\n",
       "      <td>0</td>\n",
       "      <td>A/5 21171</td>\n",
       "      <td>7.2500</td>\n",
       "      <td>NaN</td>\n",
       "      <td>S</td>\n",
       "    </tr>\n",
       "    <tr>\n",
       "      <th>1</th>\n",
       "      <td>2</td>\n",
       "      <td>1</td>\n",
       "      <td>1</td>\n",
       "      <td>Cumings, Mrs. John Bradley (Florence Briggs Th...</td>\n",
       "      <td>female</td>\n",
       "      <td>38.0</td>\n",
       "      <td>1</td>\n",
       "      <td>0</td>\n",
       "      <td>PC 17599</td>\n",
       "      <td>71.2833</td>\n",
       "      <td>C85</td>\n",
       "      <td>C</td>\n",
       "    </tr>\n",
       "    <tr>\n",
       "      <th>2</th>\n",
       "      <td>3</td>\n",
       "      <td>1</td>\n",
       "      <td>3</td>\n",
       "      <td>Heikkinen, Miss. Laina</td>\n",
       "      <td>female</td>\n",
       "      <td>26.0</td>\n",
       "      <td>0</td>\n",
       "      <td>0</td>\n",
       "      <td>STON/O2. 3101282</td>\n",
       "      <td>7.9250</td>\n",
       "      <td>NaN</td>\n",
       "      <td>S</td>\n",
       "    </tr>\n",
       "    <tr>\n",
       "      <th>3</th>\n",
       "      <td>4</td>\n",
       "      <td>1</td>\n",
       "      <td>1</td>\n",
       "      <td>Futrelle, Mrs. Jacques Heath (Lily May Peel)</td>\n",
       "      <td>female</td>\n",
       "      <td>35.0</td>\n",
       "      <td>1</td>\n",
       "      <td>0</td>\n",
       "      <td>113803</td>\n",
       "      <td>53.1000</td>\n",
       "      <td>C123</td>\n",
       "      <td>S</td>\n",
       "    </tr>\n",
       "    <tr>\n",
       "      <th>4</th>\n",
       "      <td>5</td>\n",
       "      <td>0</td>\n",
       "      <td>3</td>\n",
       "      <td>Allen, Mr. William Henry</td>\n",
       "      <td>male</td>\n",
       "      <td>35.0</td>\n",
       "      <td>0</td>\n",
       "      <td>0</td>\n",
       "      <td>373450</td>\n",
       "      <td>8.0500</td>\n",
       "      <td>NaN</td>\n",
       "      <td>S</td>\n",
       "    </tr>\n",
       "    <tr>\n",
       "      <th>...</th>\n",
       "      <td>...</td>\n",
       "      <td>...</td>\n",
       "      <td>...</td>\n",
       "      <td>...</td>\n",
       "      <td>...</td>\n",
       "      <td>...</td>\n",
       "      <td>...</td>\n",
       "      <td>...</td>\n",
       "      <td>...</td>\n",
       "      <td>...</td>\n",
       "      <td>...</td>\n",
       "      <td>...</td>\n",
       "    </tr>\n",
       "    <tr>\n",
       "      <th>886</th>\n",
       "      <td>887</td>\n",
       "      <td>0</td>\n",
       "      <td>2</td>\n",
       "      <td>Montvila, Rev. Juozas</td>\n",
       "      <td>male</td>\n",
       "      <td>27.0</td>\n",
       "      <td>0</td>\n",
       "      <td>0</td>\n",
       "      <td>211536</td>\n",
       "      <td>13.0000</td>\n",
       "      <td>NaN</td>\n",
       "      <td>S</td>\n",
       "    </tr>\n",
       "    <tr>\n",
       "      <th>887</th>\n",
       "      <td>888</td>\n",
       "      <td>1</td>\n",
       "      <td>1</td>\n",
       "      <td>Graham, Miss. Margaret Edith</td>\n",
       "      <td>female</td>\n",
       "      <td>19.0</td>\n",
       "      <td>0</td>\n",
       "      <td>0</td>\n",
       "      <td>112053</td>\n",
       "      <td>30.0000</td>\n",
       "      <td>B42</td>\n",
       "      <td>S</td>\n",
       "    </tr>\n",
       "    <tr>\n",
       "      <th>888</th>\n",
       "      <td>889</td>\n",
       "      <td>0</td>\n",
       "      <td>3</td>\n",
       "      <td>Johnston, Miss. Catherine Helen \"Carrie\"</td>\n",
       "      <td>female</td>\n",
       "      <td>NaN</td>\n",
       "      <td>1</td>\n",
       "      <td>2</td>\n",
       "      <td>W./C. 6607</td>\n",
       "      <td>23.4500</td>\n",
       "      <td>NaN</td>\n",
       "      <td>S</td>\n",
       "    </tr>\n",
       "    <tr>\n",
       "      <th>889</th>\n",
       "      <td>890</td>\n",
       "      <td>1</td>\n",
       "      <td>1</td>\n",
       "      <td>Behr, Mr. Karl Howell</td>\n",
       "      <td>male</td>\n",
       "      <td>26.0</td>\n",
       "      <td>0</td>\n",
       "      <td>0</td>\n",
       "      <td>111369</td>\n",
       "      <td>30.0000</td>\n",
       "      <td>C148</td>\n",
       "      <td>C</td>\n",
       "    </tr>\n",
       "    <tr>\n",
       "      <th>890</th>\n",
       "      <td>891</td>\n",
       "      <td>0</td>\n",
       "      <td>3</td>\n",
       "      <td>Dooley, Mr. Patrick</td>\n",
       "      <td>male</td>\n",
       "      <td>32.0</td>\n",
       "      <td>0</td>\n",
       "      <td>0</td>\n",
       "      <td>370376</td>\n",
       "      <td>7.7500</td>\n",
       "      <td>NaN</td>\n",
       "      <td>Q</td>\n",
       "    </tr>\n",
       "  </tbody>\n",
       "</table>\n",
       "<p>891 rows × 12 columns</p>\n",
       "</div>"
      ],
      "text/plain": [
       "     PassengerId  Survived  Pclass  \\\n",
       "0              1         0       3   \n",
       "1              2         1       1   \n",
       "2              3         1       3   \n",
       "3              4         1       1   \n",
       "4              5         0       3   \n",
       "..           ...       ...     ...   \n",
       "886          887         0       2   \n",
       "887          888         1       1   \n",
       "888          889         0       3   \n",
       "889          890         1       1   \n",
       "890          891         0       3   \n",
       "\n",
       "                                                  Name     Sex   Age  SibSp  \\\n",
       "0                              Braund, Mr. Owen Harris    male  22.0      1   \n",
       "1    Cumings, Mrs. John Bradley (Florence Briggs Th...  female  38.0      1   \n",
       "2                               Heikkinen, Miss. Laina  female  26.0      0   \n",
       "3         Futrelle, Mrs. Jacques Heath (Lily May Peel)  female  35.0      1   \n",
       "4                             Allen, Mr. William Henry    male  35.0      0   \n",
       "..                                                 ...     ...   ...    ...   \n",
       "886                              Montvila, Rev. Juozas    male  27.0      0   \n",
       "887                       Graham, Miss. Margaret Edith  female  19.0      0   \n",
       "888           Johnston, Miss. Catherine Helen \"Carrie\"  female   NaN      1   \n",
       "889                              Behr, Mr. Karl Howell    male  26.0      0   \n",
       "890                                Dooley, Mr. Patrick    male  32.0      0   \n",
       "\n",
       "     Parch            Ticket     Fare Cabin Embarked  \n",
       "0        0         A/5 21171   7.2500   NaN        S  \n",
       "1        0          PC 17599  71.2833   C85        C  \n",
       "2        0  STON/O2. 3101282   7.9250   NaN        S  \n",
       "3        0            113803  53.1000  C123        S  \n",
       "4        0            373450   8.0500   NaN        S  \n",
       "..     ...               ...      ...   ...      ...  \n",
       "886      0            211536  13.0000   NaN        S  \n",
       "887      0            112053  30.0000   B42        S  \n",
       "888      2        W./C. 6607  23.4500   NaN        S  \n",
       "889      0            111369  30.0000  C148        C  \n",
       "890      0            370376   7.7500   NaN        Q  \n",
       "\n",
       "[891 rows x 12 columns]"
      ]
     },
     "execution_count": 189,
     "metadata": {},
     "output_type": "execute_result"
    }
   ],
   "source": [
    "TitanicData"
   ]
  },
  {
   "cell_type": "markdown",
   "id": "2d85d0d4",
   "metadata": {},
   "source": [
    "Explotary Data Analysis(EDA)"
   ]
  },
  {
   "cell_type": "code",
   "execution_count": 190,
   "id": "49e63602",
   "metadata": {},
   "outputs": [
    {
     "data": {
      "text/plain": [
       "Index(['PassengerId', 'Survived', 'Pclass', 'Name', 'Sex', 'Age', 'SibSp',\n",
       "       'Parch', 'Ticket', 'Fare', 'Cabin', 'Embarked'],\n",
       "      dtype='object')"
      ]
     },
     "execution_count": 190,
     "metadata": {},
     "output_type": "execute_result"
    }
   ],
   "source": [
    "TitanicData.columns"
   ]
  },
  {
   "cell_type": "code",
   "execution_count": 191,
   "id": "ba82a9f0",
   "metadata": {},
   "outputs": [],
   "source": [
    "TitanicData =TitanicData.drop([\"PassengerId\", \"Name\"], axis=1)"
   ]
  },
  {
   "cell_type": "code",
   "execution_count": 192,
   "id": "b1639941",
   "metadata": {},
   "outputs": [
    {
     "data": {
      "text/html": [
       "<div>\n",
       "<style scoped>\n",
       "    .dataframe tbody tr th:only-of-type {\n",
       "        vertical-align: middle;\n",
       "    }\n",
       "\n",
       "    .dataframe tbody tr th {\n",
       "        vertical-align: top;\n",
       "    }\n",
       "\n",
       "    .dataframe thead th {\n",
       "        text-align: right;\n",
       "    }\n",
       "</style>\n",
       "<table border=\"1\" class=\"dataframe\">\n",
       "  <thead>\n",
       "    <tr style=\"text-align: right;\">\n",
       "      <th></th>\n",
       "      <th>Survived</th>\n",
       "      <th>Pclass</th>\n",
       "      <th>Sex</th>\n",
       "      <th>Age</th>\n",
       "      <th>SibSp</th>\n",
       "      <th>Parch</th>\n",
       "      <th>Ticket</th>\n",
       "      <th>Fare</th>\n",
       "      <th>Cabin</th>\n",
       "      <th>Embarked</th>\n",
       "    </tr>\n",
       "  </thead>\n",
       "  <tbody>\n",
       "    <tr>\n",
       "      <th>0</th>\n",
       "      <td>0</td>\n",
       "      <td>3</td>\n",
       "      <td>male</td>\n",
       "      <td>22.0</td>\n",
       "      <td>1</td>\n",
       "      <td>0</td>\n",
       "      <td>A/5 21171</td>\n",
       "      <td>7.2500</td>\n",
       "      <td>NaN</td>\n",
       "      <td>S</td>\n",
       "    </tr>\n",
       "    <tr>\n",
       "      <th>1</th>\n",
       "      <td>1</td>\n",
       "      <td>1</td>\n",
       "      <td>female</td>\n",
       "      <td>38.0</td>\n",
       "      <td>1</td>\n",
       "      <td>0</td>\n",
       "      <td>PC 17599</td>\n",
       "      <td>71.2833</td>\n",
       "      <td>C85</td>\n",
       "      <td>C</td>\n",
       "    </tr>\n",
       "    <tr>\n",
       "      <th>2</th>\n",
       "      <td>1</td>\n",
       "      <td>3</td>\n",
       "      <td>female</td>\n",
       "      <td>26.0</td>\n",
       "      <td>0</td>\n",
       "      <td>0</td>\n",
       "      <td>STON/O2. 3101282</td>\n",
       "      <td>7.9250</td>\n",
       "      <td>NaN</td>\n",
       "      <td>S</td>\n",
       "    </tr>\n",
       "    <tr>\n",
       "      <th>3</th>\n",
       "      <td>1</td>\n",
       "      <td>1</td>\n",
       "      <td>female</td>\n",
       "      <td>35.0</td>\n",
       "      <td>1</td>\n",
       "      <td>0</td>\n",
       "      <td>113803</td>\n",
       "      <td>53.1000</td>\n",
       "      <td>C123</td>\n",
       "      <td>S</td>\n",
       "    </tr>\n",
       "    <tr>\n",
       "      <th>4</th>\n",
       "      <td>0</td>\n",
       "      <td>3</td>\n",
       "      <td>male</td>\n",
       "      <td>35.0</td>\n",
       "      <td>0</td>\n",
       "      <td>0</td>\n",
       "      <td>373450</td>\n",
       "      <td>8.0500</td>\n",
       "      <td>NaN</td>\n",
       "      <td>S</td>\n",
       "    </tr>\n",
       "    <tr>\n",
       "      <th>...</th>\n",
       "      <td>...</td>\n",
       "      <td>...</td>\n",
       "      <td>...</td>\n",
       "      <td>...</td>\n",
       "      <td>...</td>\n",
       "      <td>...</td>\n",
       "      <td>...</td>\n",
       "      <td>...</td>\n",
       "      <td>...</td>\n",
       "      <td>...</td>\n",
       "    </tr>\n",
       "    <tr>\n",
       "      <th>886</th>\n",
       "      <td>0</td>\n",
       "      <td>2</td>\n",
       "      <td>male</td>\n",
       "      <td>27.0</td>\n",
       "      <td>0</td>\n",
       "      <td>0</td>\n",
       "      <td>211536</td>\n",
       "      <td>13.0000</td>\n",
       "      <td>NaN</td>\n",
       "      <td>S</td>\n",
       "    </tr>\n",
       "    <tr>\n",
       "      <th>887</th>\n",
       "      <td>1</td>\n",
       "      <td>1</td>\n",
       "      <td>female</td>\n",
       "      <td>19.0</td>\n",
       "      <td>0</td>\n",
       "      <td>0</td>\n",
       "      <td>112053</td>\n",
       "      <td>30.0000</td>\n",
       "      <td>B42</td>\n",
       "      <td>S</td>\n",
       "    </tr>\n",
       "    <tr>\n",
       "      <th>888</th>\n",
       "      <td>0</td>\n",
       "      <td>3</td>\n",
       "      <td>female</td>\n",
       "      <td>NaN</td>\n",
       "      <td>1</td>\n",
       "      <td>2</td>\n",
       "      <td>W./C. 6607</td>\n",
       "      <td>23.4500</td>\n",
       "      <td>NaN</td>\n",
       "      <td>S</td>\n",
       "    </tr>\n",
       "    <tr>\n",
       "      <th>889</th>\n",
       "      <td>1</td>\n",
       "      <td>1</td>\n",
       "      <td>male</td>\n",
       "      <td>26.0</td>\n",
       "      <td>0</td>\n",
       "      <td>0</td>\n",
       "      <td>111369</td>\n",
       "      <td>30.0000</td>\n",
       "      <td>C148</td>\n",
       "      <td>C</td>\n",
       "    </tr>\n",
       "    <tr>\n",
       "      <th>890</th>\n",
       "      <td>0</td>\n",
       "      <td>3</td>\n",
       "      <td>male</td>\n",
       "      <td>32.0</td>\n",
       "      <td>0</td>\n",
       "      <td>0</td>\n",
       "      <td>370376</td>\n",
       "      <td>7.7500</td>\n",
       "      <td>NaN</td>\n",
       "      <td>Q</td>\n",
       "    </tr>\n",
       "  </tbody>\n",
       "</table>\n",
       "<p>891 rows × 10 columns</p>\n",
       "</div>"
      ],
      "text/plain": [
       "     Survived  Pclass     Sex   Age  SibSp  Parch            Ticket     Fare  \\\n",
       "0           0       3    male  22.0      1      0         A/5 21171   7.2500   \n",
       "1           1       1  female  38.0      1      0          PC 17599  71.2833   \n",
       "2           1       3  female  26.0      0      0  STON/O2. 3101282   7.9250   \n",
       "3           1       1  female  35.0      1      0            113803  53.1000   \n",
       "4           0       3    male  35.0      0      0            373450   8.0500   \n",
       "..        ...     ...     ...   ...    ...    ...               ...      ...   \n",
       "886         0       2    male  27.0      0      0            211536  13.0000   \n",
       "887         1       1  female  19.0      0      0            112053  30.0000   \n",
       "888         0       3  female   NaN      1      2        W./C. 6607  23.4500   \n",
       "889         1       1    male  26.0      0      0            111369  30.0000   \n",
       "890         0       3    male  32.0      0      0            370376   7.7500   \n",
       "\n",
       "    Cabin Embarked  \n",
       "0     NaN        S  \n",
       "1     C85        C  \n",
       "2     NaN        S  \n",
       "3    C123        S  \n",
       "4     NaN        S  \n",
       "..    ...      ...  \n",
       "886   NaN        S  \n",
       "887   B42        S  \n",
       "888   NaN        S  \n",
       "889  C148        C  \n",
       "890   NaN        Q  \n",
       "\n",
       "[891 rows x 10 columns]"
      ]
     },
     "execution_count": 192,
     "metadata": {},
     "output_type": "execute_result"
    }
   ],
   "source": [
    "TitanicData"
   ]
  },
  {
   "cell_type": "markdown",
   "id": "aca88f4e",
   "metadata": {},
   "source": [
    "null values check"
   ]
  },
  {
   "cell_type": "code",
   "execution_count": 193,
   "id": "6c212665",
   "metadata": {},
   "outputs": [
    {
     "data": {
      "text/plain": [
       "Survived      0\n",
       "Pclass        0\n",
       "Sex           0\n",
       "Age         177\n",
       "SibSp         0\n",
       "Parch         0\n",
       "Ticket        0\n",
       "Fare          0\n",
       "Cabin       687\n",
       "Embarked      2\n",
       "dtype: int64"
      ]
     },
     "execution_count": 193,
     "metadata": {},
     "output_type": "execute_result"
    }
   ],
   "source": [
    "TitanicData.isnull().sum()"
   ]
  },
  {
   "cell_type": "markdown",
   "id": "ce1d61a1",
   "metadata": {},
   "source": [
    "#OBSERVATIONS\n",
    "'Age','Cabin','Emnbarked' have null values. Dropping 'Cabin' since 77.10% of its values is missing and therefore it cannot contribute to building a good model for predicting the target variable values."
   ]
  },
  {
   "cell_type": "code",
   "execution_count": 194,
   "id": "ebf7770b",
   "metadata": {},
   "outputs": [],
   "source": [
    "TitanicData = TitanicData.drop(\"Cabin\", axis=1)"
   ]
  },
  {
   "cell_type": "code",
   "execution_count": 195,
   "id": "13a902f5",
   "metadata": {},
   "outputs": [
    {
     "data": {
      "text/html": [
       "<div>\n",
       "<style scoped>\n",
       "    .dataframe tbody tr th:only-of-type {\n",
       "        vertical-align: middle;\n",
       "    }\n",
       "\n",
       "    .dataframe tbody tr th {\n",
       "        vertical-align: top;\n",
       "    }\n",
       "\n",
       "    .dataframe thead th {\n",
       "        text-align: right;\n",
       "    }\n",
       "</style>\n",
       "<table border=\"1\" class=\"dataframe\">\n",
       "  <thead>\n",
       "    <tr style=\"text-align: right;\">\n",
       "      <th></th>\n",
       "      <th>Survived</th>\n",
       "      <th>Pclass</th>\n",
       "      <th>Sex</th>\n",
       "      <th>Age</th>\n",
       "      <th>SibSp</th>\n",
       "      <th>Parch</th>\n",
       "      <th>Ticket</th>\n",
       "      <th>Fare</th>\n",
       "      <th>Embarked</th>\n",
       "    </tr>\n",
       "  </thead>\n",
       "  <tbody>\n",
       "    <tr>\n",
       "      <th>0</th>\n",
       "      <td>0</td>\n",
       "      <td>3</td>\n",
       "      <td>male</td>\n",
       "      <td>22.0</td>\n",
       "      <td>1</td>\n",
       "      <td>0</td>\n",
       "      <td>A/5 21171</td>\n",
       "      <td>7.2500</td>\n",
       "      <td>S</td>\n",
       "    </tr>\n",
       "    <tr>\n",
       "      <th>1</th>\n",
       "      <td>1</td>\n",
       "      <td>1</td>\n",
       "      <td>female</td>\n",
       "      <td>38.0</td>\n",
       "      <td>1</td>\n",
       "      <td>0</td>\n",
       "      <td>PC 17599</td>\n",
       "      <td>71.2833</td>\n",
       "      <td>C</td>\n",
       "    </tr>\n",
       "    <tr>\n",
       "      <th>2</th>\n",
       "      <td>1</td>\n",
       "      <td>3</td>\n",
       "      <td>female</td>\n",
       "      <td>26.0</td>\n",
       "      <td>0</td>\n",
       "      <td>0</td>\n",
       "      <td>STON/O2. 3101282</td>\n",
       "      <td>7.9250</td>\n",
       "      <td>S</td>\n",
       "    </tr>\n",
       "    <tr>\n",
       "      <th>3</th>\n",
       "      <td>1</td>\n",
       "      <td>1</td>\n",
       "      <td>female</td>\n",
       "      <td>35.0</td>\n",
       "      <td>1</td>\n",
       "      <td>0</td>\n",
       "      <td>113803</td>\n",
       "      <td>53.1000</td>\n",
       "      <td>S</td>\n",
       "    </tr>\n",
       "    <tr>\n",
       "      <th>4</th>\n",
       "      <td>0</td>\n",
       "      <td>3</td>\n",
       "      <td>male</td>\n",
       "      <td>35.0</td>\n",
       "      <td>0</td>\n",
       "      <td>0</td>\n",
       "      <td>373450</td>\n",
       "      <td>8.0500</td>\n",
       "      <td>S</td>\n",
       "    </tr>\n",
       "    <tr>\n",
       "      <th>...</th>\n",
       "      <td>...</td>\n",
       "      <td>...</td>\n",
       "      <td>...</td>\n",
       "      <td>...</td>\n",
       "      <td>...</td>\n",
       "      <td>...</td>\n",
       "      <td>...</td>\n",
       "      <td>...</td>\n",
       "      <td>...</td>\n",
       "    </tr>\n",
       "    <tr>\n",
       "      <th>886</th>\n",
       "      <td>0</td>\n",
       "      <td>2</td>\n",
       "      <td>male</td>\n",
       "      <td>27.0</td>\n",
       "      <td>0</td>\n",
       "      <td>0</td>\n",
       "      <td>211536</td>\n",
       "      <td>13.0000</td>\n",
       "      <td>S</td>\n",
       "    </tr>\n",
       "    <tr>\n",
       "      <th>887</th>\n",
       "      <td>1</td>\n",
       "      <td>1</td>\n",
       "      <td>female</td>\n",
       "      <td>19.0</td>\n",
       "      <td>0</td>\n",
       "      <td>0</td>\n",
       "      <td>112053</td>\n",
       "      <td>30.0000</td>\n",
       "      <td>S</td>\n",
       "    </tr>\n",
       "    <tr>\n",
       "      <th>888</th>\n",
       "      <td>0</td>\n",
       "      <td>3</td>\n",
       "      <td>female</td>\n",
       "      <td>NaN</td>\n",
       "      <td>1</td>\n",
       "      <td>2</td>\n",
       "      <td>W./C. 6607</td>\n",
       "      <td>23.4500</td>\n",
       "      <td>S</td>\n",
       "    </tr>\n",
       "    <tr>\n",
       "      <th>889</th>\n",
       "      <td>1</td>\n",
       "      <td>1</td>\n",
       "      <td>male</td>\n",
       "      <td>26.0</td>\n",
       "      <td>0</td>\n",
       "      <td>0</td>\n",
       "      <td>111369</td>\n",
       "      <td>30.0000</td>\n",
       "      <td>C</td>\n",
       "    </tr>\n",
       "    <tr>\n",
       "      <th>890</th>\n",
       "      <td>0</td>\n",
       "      <td>3</td>\n",
       "      <td>male</td>\n",
       "      <td>32.0</td>\n",
       "      <td>0</td>\n",
       "      <td>0</td>\n",
       "      <td>370376</td>\n",
       "      <td>7.7500</td>\n",
       "      <td>Q</td>\n",
       "    </tr>\n",
       "  </tbody>\n",
       "</table>\n",
       "<p>891 rows × 9 columns</p>\n",
       "</div>"
      ],
      "text/plain": [
       "     Survived  Pclass     Sex   Age  SibSp  Parch            Ticket     Fare  \\\n",
       "0           0       3    male  22.0      1      0         A/5 21171   7.2500   \n",
       "1           1       1  female  38.0      1      0          PC 17599  71.2833   \n",
       "2           1       3  female  26.0      0      0  STON/O2. 3101282   7.9250   \n",
       "3           1       1  female  35.0      1      0            113803  53.1000   \n",
       "4           0       3    male  35.0      0      0            373450   8.0500   \n",
       "..        ...     ...     ...   ...    ...    ...               ...      ...   \n",
       "886         0       2    male  27.0      0      0            211536  13.0000   \n",
       "887         1       1  female  19.0      0      0            112053  30.0000   \n",
       "888         0       3  female   NaN      1      2        W./C. 6607  23.4500   \n",
       "889         1       1    male  26.0      0      0            111369  30.0000   \n",
       "890         0       3    male  32.0      0      0            370376   7.7500   \n",
       "\n",
       "    Embarked  \n",
       "0          S  \n",
       "1          C  \n",
       "2          S  \n",
       "3          S  \n",
       "4          S  \n",
       "..       ...  \n",
       "886        S  \n",
       "887        S  \n",
       "888        S  \n",
       "889        C  \n",
       "890        Q  \n",
       "\n",
       "[891 rows x 9 columns]"
      ]
     },
     "execution_count": 195,
     "metadata": {},
     "output_type": "execute_result"
    }
   ],
   "source": [
    "TitanicData"
   ]
  },
  {
   "cell_type": "markdown",
   "id": "27c9a638",
   "metadata": {},
   "source": [
    "summary and statistical information of the data"
   ]
  },
  {
   "cell_type": "code",
   "execution_count": 196,
   "id": "cf569268",
   "metadata": {},
   "outputs": [
    {
     "name": "stdout",
     "output_type": "stream",
     "text": [
      "<class 'pandas.core.frame.DataFrame'>\n",
      "RangeIndex: 891 entries, 0 to 890\n",
      "Data columns (total 9 columns):\n",
      " #   Column    Non-Null Count  Dtype  \n",
      "---  ------    --------------  -----  \n",
      " 0   Survived  891 non-null    int64  \n",
      " 1   Pclass    891 non-null    int64  \n",
      " 2   Sex       891 non-null    object \n",
      " 3   Age       714 non-null    float64\n",
      " 4   SibSp     891 non-null    int64  \n",
      " 5   Parch     891 non-null    int64  \n",
      " 6   Ticket    891 non-null    object \n",
      " 7   Fare      891 non-null    float64\n",
      " 8   Embarked  889 non-null    object \n",
      "dtypes: float64(2), int64(4), object(3)\n",
      "memory usage: 62.8+ KB\n"
     ]
    }
   ],
   "source": [
    "TitanicData.info()"
   ]
  },
  {
   "cell_type": "code",
   "execution_count": 197,
   "id": "4f400db2",
   "metadata": {},
   "outputs": [
    {
     "data": {
      "text/plain": [
       "Survived    0.478523\n",
       "Pclass     -0.630548\n",
       "Age         0.389108\n",
       "SibSp       3.695352\n",
       "Parch       2.749117\n",
       "Fare        4.787317\n",
       "dtype: float64"
      ]
     },
     "execution_count": 197,
     "metadata": {},
     "output_type": "execute_result"
    }
   ],
   "source": [
    "TitanicData.skew()"
   ]
  },
  {
   "cell_type": "code",
   "execution_count": 198,
   "id": "4946b7a8",
   "metadata": {},
   "outputs": [
    {
     "data": {
      "text/html": [
       "<div>\n",
       "<style scoped>\n",
       "    .dataframe tbody tr th:only-of-type {\n",
       "        vertical-align: middle;\n",
       "    }\n",
       "\n",
       "    .dataframe tbody tr th {\n",
       "        vertical-align: top;\n",
       "    }\n",
       "\n",
       "    .dataframe thead th {\n",
       "        text-align: right;\n",
       "    }\n",
       "</style>\n",
       "<table border=\"1\" class=\"dataframe\">\n",
       "  <thead>\n",
       "    <tr style=\"text-align: right;\">\n",
       "      <th></th>\n",
       "      <th>Survived</th>\n",
       "      <th>Pclass</th>\n",
       "      <th>Age</th>\n",
       "      <th>SibSp</th>\n",
       "      <th>Parch</th>\n",
       "      <th>Fare</th>\n",
       "    </tr>\n",
       "  </thead>\n",
       "  <tbody>\n",
       "    <tr>\n",
       "      <th>count</th>\n",
       "      <td>891.000000</td>\n",
       "      <td>891.000000</td>\n",
       "      <td>714.000000</td>\n",
       "      <td>891.000000</td>\n",
       "      <td>891.000000</td>\n",
       "      <td>891.000000</td>\n",
       "    </tr>\n",
       "    <tr>\n",
       "      <th>mean</th>\n",
       "      <td>0.383838</td>\n",
       "      <td>2.308642</td>\n",
       "      <td>29.699118</td>\n",
       "      <td>0.523008</td>\n",
       "      <td>0.381594</td>\n",
       "      <td>32.204208</td>\n",
       "    </tr>\n",
       "    <tr>\n",
       "      <th>std</th>\n",
       "      <td>0.486592</td>\n",
       "      <td>0.836071</td>\n",
       "      <td>14.526497</td>\n",
       "      <td>1.102743</td>\n",
       "      <td>0.806057</td>\n",
       "      <td>49.693429</td>\n",
       "    </tr>\n",
       "    <tr>\n",
       "      <th>min</th>\n",
       "      <td>0.000000</td>\n",
       "      <td>1.000000</td>\n",
       "      <td>0.420000</td>\n",
       "      <td>0.000000</td>\n",
       "      <td>0.000000</td>\n",
       "      <td>0.000000</td>\n",
       "    </tr>\n",
       "    <tr>\n",
       "      <th>25%</th>\n",
       "      <td>0.000000</td>\n",
       "      <td>2.000000</td>\n",
       "      <td>20.125000</td>\n",
       "      <td>0.000000</td>\n",
       "      <td>0.000000</td>\n",
       "      <td>7.910400</td>\n",
       "    </tr>\n",
       "    <tr>\n",
       "      <th>50%</th>\n",
       "      <td>0.000000</td>\n",
       "      <td>3.000000</td>\n",
       "      <td>28.000000</td>\n",
       "      <td>0.000000</td>\n",
       "      <td>0.000000</td>\n",
       "      <td>14.454200</td>\n",
       "    </tr>\n",
       "    <tr>\n",
       "      <th>75%</th>\n",
       "      <td>1.000000</td>\n",
       "      <td>3.000000</td>\n",
       "      <td>38.000000</td>\n",
       "      <td>1.000000</td>\n",
       "      <td>0.000000</td>\n",
       "      <td>31.000000</td>\n",
       "    </tr>\n",
       "    <tr>\n",
       "      <th>max</th>\n",
       "      <td>1.000000</td>\n",
       "      <td>3.000000</td>\n",
       "      <td>80.000000</td>\n",
       "      <td>8.000000</td>\n",
       "      <td>6.000000</td>\n",
       "      <td>512.329200</td>\n",
       "    </tr>\n",
       "  </tbody>\n",
       "</table>\n",
       "</div>"
      ],
      "text/plain": [
       "         Survived      Pclass         Age       SibSp       Parch        Fare\n",
       "count  891.000000  891.000000  714.000000  891.000000  891.000000  891.000000\n",
       "mean     0.383838    2.308642   29.699118    0.523008    0.381594   32.204208\n",
       "std      0.486592    0.836071   14.526497    1.102743    0.806057   49.693429\n",
       "min      0.000000    1.000000    0.420000    0.000000    0.000000    0.000000\n",
       "25%      0.000000    2.000000   20.125000    0.000000    0.000000    7.910400\n",
       "50%      0.000000    3.000000   28.000000    0.000000    0.000000   14.454200\n",
       "75%      1.000000    3.000000   38.000000    1.000000    0.000000   31.000000\n",
       "max      1.000000    3.000000   80.000000    8.000000    6.000000  512.329200"
      ]
     },
     "execution_count": 198,
     "metadata": {},
     "output_type": "execute_result"
    }
   ],
   "source": [
    "TitanicData.describe()"
   ]
  },
  {
   "cell_type": "markdown",
   "id": "d9c24424",
   "metadata": {},
   "source": [
    "In fare coloumn STD is higher than Mean which indicates positive skewness"
   ]
  },
  {
   "cell_type": "code",
   "execution_count": 199,
   "id": "a915aeb0",
   "metadata": {},
   "outputs": [
    {
     "data": {
      "text/plain": [
       "Survived      2\n",
       "Pclass        3\n",
       "Sex           2\n",
       "Age          88\n",
       "SibSp         7\n",
       "Parch         7\n",
       "Ticket      681\n",
       "Fare        248\n",
       "Embarked      3\n",
       "dtype: int64"
      ]
     },
     "execution_count": 199,
     "metadata": {},
     "output_type": "execute_result"
    }
   ],
   "source": [
    "TitanicData.nunique()"
   ]
  },
  {
   "cell_type": "markdown",
   "id": "fd98e70d",
   "metadata": {},
   "source": [
    "# Analysing the target class"
   ]
  },
  {
   "cell_type": "code",
   "execution_count": 200,
   "id": "3f94e399",
   "metadata": {},
   "outputs": [
    {
     "data": {
      "text/plain": [
       "array([0, 1], dtype=int64)"
      ]
     },
     "execution_count": 200,
     "metadata": {},
     "output_type": "execute_result"
    }
   ],
   "source": [
    "TitanicData['Survived'].unique()"
   ]
  },
  {
   "cell_type": "markdown",
   "id": "c5c2afdd",
   "metadata": {},
   "source": [
    "There are two unique catergorical vlues in target class "
   ]
  },
  {
   "cell_type": "code",
   "execution_count": 201,
   "id": "c937aec6",
   "metadata": {},
   "outputs": [
    {
     "data": {
      "text/plain": [
       "0    549\n",
       "1    342\n",
       "Name: Survived, dtype: int64"
      ]
     },
     "execution_count": 201,
     "metadata": {},
     "output_type": "execute_result"
    }
   ],
   "source": [
    "TitanicData['Survived'].value_counts()"
   ]
  },
  {
   "cell_type": "code",
   "execution_count": 202,
   "id": "37f2b17f",
   "metadata": {},
   "outputs": [
    {
     "data": {
      "text/plain": [
       "<AxesSubplot:xlabel='Survived', ylabel='count'>"
      ]
     },
     "execution_count": 202,
     "metadata": {},
     "output_type": "execute_result"
    },
    {
     "data": {
      "image/png": "[encoded data removed]",
      "text/plain": [
       "<Figure size 432x288 with 1 Axes>"
      ]
     },
     "metadata": {
      "needs_background": "light"
     },
     "output_type": "display_data"
    }
   ],
   "source": [
    "#checking for count imbalance \n",
    "sns.countplot(TitanicData['Survived'], palette=\"Set1\")"
   ]
  },
  {
   "cell_type": "code",
   "execution_count": 203,
   "id": "2943e7b0",
   "metadata": {},
   "outputs": [
    {
     "data": {
      "image/png": "[encoded data removed]",
      "text/plain": [
       "<Figure size 432x288 with 1 Axes>"
      ]
     },
     "metadata": {},
     "output_type": "display_data"
    }
   ],
   "source": [
    "labels = '0','1'\n",
    "fig, ax = plt.subplots()\n",
    "ax.pie(TitanicData['Survived'].value_counts(),labels = labels,radius =1,autopct = '%1.2f%%', shadow=True,)\n",
    "plt.show()"
   ]
  },
  {
   "cell_type": "code",
   "execution_count": 204,
   "id": "36390768",
   "metadata": {},
   "outputs": [
    {
     "data": {
      "text/plain": [
       "array(['male', 'female'], dtype=object)"
      ]
     },
     "execution_count": 204,
     "metadata": {},
     "output_type": "execute_result"
    }
   ],
   "source": [
    "#Analysing feature coloumn catergorical class\n",
    "TitanicData['Sex'].unique() "
   ]
  },
  {
   "cell_type": "code",
   "execution_count": 205,
   "id": "7c0cf91b",
   "metadata": {},
   "outputs": [
    {
     "data": {
      "text/plain": [
       "male      577\n",
       "female    314\n",
       "Name: Sex, dtype: int64"
      ]
     },
     "execution_count": 205,
     "metadata": {},
     "output_type": "execute_result"
    }
   ],
   "source": [
    "TitanicData['Sex'].value_counts()"
   ]
  },
  {
   "cell_type": "code",
   "execution_count": 206,
   "id": "4b89c303",
   "metadata": {},
   "outputs": [
    {
     "data": {
      "text/plain": [
       "<AxesSubplot:xlabel='Sex', ylabel='count'>"
      ]
     },
     "execution_count": 206,
     "metadata": {},
     "output_type": "execute_result"
    },
    {
     "data": {
      "image/png": "[encoded data removed]",
      "text/plain": [
       "<Figure size 432x288 with 1 Axes>"
      ]
     },
     "metadata": {
      "needs_background": "light"
     },
     "output_type": "display_data"
    }
   ],
   "source": [
    "sns.countplot(TitanicData['Sex'], palette=\"Set1\")\n"
   ]
  },
  {
   "cell_type": "code",
   "execution_count": 207,
   "id": "cf4177db",
   "metadata": {},
   "outputs": [
    {
     "data": {
      "image/png": "[encoded data removed]",
      "text/plain": [
       "<Figure size 432x288 with 1 Axes>"
      ]
     },
     "metadata": {},
     "output_type": "display_data"
    }
   ],
   "source": [
    "labels = 'Male','Female'\n",
    "fig, ax = plt.subplots()\n",
    "ax.pie(TitanicData['Sex'].value_counts(),labels = labels,radius =1,autopct = '%1.2f%%', shadow=True,)\n",
    "plt.show()"
   ]
  },
  {
   "cell_type": "code",
   "execution_count": 208,
   "id": "9c9be280",
   "metadata": {},
   "outputs": [
    {
     "data": {
      "text/plain": [
       "array([3, 1, 2], dtype=int64)"
      ]
     },
     "execution_count": 208,
     "metadata": {},
     "output_type": "execute_result"
    }
   ],
   "source": [
    "TitanicData['Pclass'].unique() "
   ]
  },
  {
   "cell_type": "code",
   "execution_count": 209,
   "id": "c636e74e",
   "metadata": {},
   "outputs": [
    {
     "data": {
      "text/plain": [
       "3    491\n",
       "1    216\n",
       "2    184\n",
       "Name: Pclass, dtype: int64"
      ]
     },
     "execution_count": 209,
     "metadata": {},
     "output_type": "execute_result"
    }
   ],
   "source": [
    "TitanicData['Pclass'].value_counts()"
   ]
  },
  {
   "cell_type": "code",
   "execution_count": 210,
   "id": "d4f1d501",
   "metadata": {},
   "outputs": [
    {
     "data": {
      "text/plain": [
       "<AxesSubplot:xlabel='Pclass', ylabel='count'>"
      ]
     },
     "execution_count": 210,
     "metadata": {},
     "output_type": "execute_result"
    },
    {
     "data": {
      "image/png": "[encoded data removed]",
      "text/plain": [
       "<Figure size 432x288 with 1 Axes>"
      ]
     },
     "metadata": {
      "needs_background": "light"
     },
     "output_type": "display_data"
    }
   ],
   "source": [
    "sns.countplot(TitanicData['Pclass'], palette=\"Set1\")"
   ]
  },
  {
   "cell_type": "code",
   "execution_count": 211,
   "id": "c7f37d00",
   "metadata": {},
   "outputs": [
    {
     "data": {
      "image/png": "[encoded data removed]",
      "text/plain": [
       "<Figure size 432x288 with 1 Axes>"
      ]
     },
     "metadata": {},
     "output_type": "display_data"
    }
   ],
   "source": [
    "labels = '3','1','2'\n",
    "fig, ax = plt.subplots()\n",
    "ax.pie(TitanicData['Pclass'].value_counts(),labels = labels,radius =1,autopct = '%1.2f%%', shadow=True,)\n",
    "plt.show()"
   ]
  },
  {
   "cell_type": "code",
   "execution_count": 212,
   "id": "46c182df",
   "metadata": {},
   "outputs": [
    {
     "data": {
      "text/plain": [
       "array(['S', 'C', 'Q', nan], dtype=object)"
      ]
     },
     "execution_count": 212,
     "metadata": {},
     "output_type": "execute_result"
    }
   ],
   "source": [
    "TitanicData['Embarked'].unique() "
   ]
  },
  {
   "cell_type": "code",
   "execution_count": 213,
   "id": "c4a7d8b8",
   "metadata": {},
   "outputs": [
    {
     "data": {
      "text/plain": [
       "2"
      ]
     },
     "execution_count": 213,
     "metadata": {},
     "output_type": "execute_result"
    }
   ],
   "source": [
    "TitanicData['Embarked'].isnull().sum()"
   ]
  },
  {
   "cell_type": "markdown",
   "id": "5c905f65",
   "metadata": {},
   "source": [
    "dropping rows with null value since losing those 2 rows will not cause any significant loss to the dataset"
   ]
  },
  {
   "cell_type": "code",
   "execution_count": 214,
   "id": "a32f7ee8",
   "metadata": {},
   "outputs": [
    {
     "data": {
      "text/plain": [
       "Int64Index([61, 829], dtype='int64')"
      ]
     },
     "execution_count": 214,
     "metadata": {},
     "output_type": "execute_result"
    }
   ],
   "source": [
    "TitanicData.loc[pd.isna(TitanicData[\"Embarked\"]), :].index "
   ]
  },
  {
   "cell_type": "code",
   "execution_count": 215,
   "id": "70bf7082",
   "metadata": {},
   "outputs": [],
   "source": [
    "TitanicData.drop([61,829],inplace=True)"
   ]
  },
  {
   "cell_type": "code",
   "execution_count": 216,
   "id": "bf221cff",
   "metadata": {},
   "outputs": [
    {
     "data": {
      "text/plain": [
       "(889, 9)"
      ]
     },
     "execution_count": 216,
     "metadata": {},
     "output_type": "execute_result"
    }
   ],
   "source": [
    "TitanicData.shape"
   ]
  },
  {
   "cell_type": "code",
   "execution_count": 217,
   "id": "1e193fd8",
   "metadata": {},
   "outputs": [],
   "source": [
    "TitanicData.reset_index(drop=True,inplace = True)"
   ]
  },
  {
   "cell_type": "code",
   "execution_count": 218,
   "id": "132926e0",
   "metadata": {},
   "outputs": [
    {
     "data": {
      "text/plain": [
       "0"
      ]
     },
     "execution_count": 218,
     "metadata": {},
     "output_type": "execute_result"
    }
   ],
   "source": [
    "TitanicData['Embarked'].isnull().sum() "
   ]
  },
  {
   "cell_type": "code",
   "execution_count": 219,
   "id": "55972cf8",
   "metadata": {},
   "outputs": [
    {
     "data": {
      "text/plain": [
       "S    644\n",
       "C    168\n",
       "Q     77\n",
       "Name: Embarked, dtype: int64"
      ]
     },
     "execution_count": 219,
     "metadata": {},
     "output_type": "execute_result"
    }
   ],
   "source": [
    "TitanicData['Embarked'].value_counts()"
   ]
  },
  {
   "cell_type": "code",
   "execution_count": 220,
   "id": "273eb1ac",
   "metadata": {},
   "outputs": [
    {
     "data": {
      "text/plain": [
       "<AxesSubplot:xlabel='Embarked', ylabel='count'>"
      ]
     },
     "execution_count": 220,
     "metadata": {},
     "output_type": "execute_result"
    },
    {
     "data": {
      "image/png": "[encoded data removed]",
      "text/plain": [
       "<Figure size 432x288 with 1 Axes>"
      ]
     },
     "metadata": {
      "needs_background": "light"
     },
     "output_type": "display_data"
    }
   ],
   "source": [
    "sns.countplot(TitanicData['Embarked'], palette=\"Set1\")"
   ]
  },
  {
   "cell_type": "code",
   "execution_count": 221,
   "id": "fd6a0e2a",
   "metadata": {},
   "outputs": [
    {
     "data": {
      "image/png": "[encoded data removed]",
      "text/plain": [
       "<Figure size 432x288 with 1 Axes>"
      ]
     },
     "metadata": {},
     "output_type": "display_data"
    }
   ],
   "source": [
    "labels = 'S','C','Q'\n",
    "fig, ax = plt.subplots()\n",
    "ax.pie(TitanicData['Pclass'].value_counts(),labels = labels,radius =1,autopct = '%1.2f%%', shadow=True,)\n",
    "plt.show()"
   ]
  },
  {
   "cell_type": "markdown",
   "id": "6063dfeb",
   "metadata": {},
   "source": [
    "55.23% of the passengers embarked from 'S',24.07% of the passengers embarked from 'C',20.70% of the passengers embarked from Encoding the categorical data in 'Sex' and 'Embarked"
   ]
  },
  {
   "cell_type": "code",
   "execution_count": 222,
   "id": "fcc55254",
   "metadata": {},
   "outputs": [],
   "source": [
    "TitanicData['Sex'] = TitanicData.Sex.map({'female':0,'male':1})"
   ]
  },
  {
   "cell_type": "code",
   "execution_count": 223,
   "id": "626b6e23",
   "metadata": {},
   "outputs": [],
   "source": [
    "drop = pd.get_dummies(TitanicData['Embarked'],drop_first = False)"
   ]
  },
  {
   "cell_type": "code",
   "execution_count": 224,
   "id": "58f1fef2",
   "metadata": {},
   "outputs": [
    {
     "data": {
      "text/html": [
       "<div>\n",
       "<style scoped>\n",
       "    .dataframe tbody tr th:only-of-type {\n",
       "        vertical-align: middle;\n",
       "    }\n",
       "\n",
       "    .dataframe tbody tr th {\n",
       "        vertical-align: top;\n",
       "    }\n",
       "\n",
       "    .dataframe thead th {\n",
       "        text-align: right;\n",
       "    }\n",
       "</style>\n",
       "<table border=\"1\" class=\"dataframe\">\n",
       "  <thead>\n",
       "    <tr style=\"text-align: right;\">\n",
       "      <th></th>\n",
       "      <th>C</th>\n",
       "      <th>Q</th>\n",
       "      <th>S</th>\n",
       "    </tr>\n",
       "  </thead>\n",
       "  <tbody>\n",
       "    <tr>\n",
       "      <th>0</th>\n",
       "      <td>0</td>\n",
       "      <td>0</td>\n",
       "      <td>1</td>\n",
       "    </tr>\n",
       "    <tr>\n",
       "      <th>1</th>\n",
       "      <td>1</td>\n",
       "      <td>0</td>\n",
       "      <td>0</td>\n",
       "    </tr>\n",
       "    <tr>\n",
       "      <th>2</th>\n",
       "      <td>0</td>\n",
       "      <td>0</td>\n",
       "      <td>1</td>\n",
       "    </tr>\n",
       "    <tr>\n",
       "      <th>3</th>\n",
       "      <td>0</td>\n",
       "      <td>0</td>\n",
       "      <td>1</td>\n",
       "    </tr>\n",
       "    <tr>\n",
       "      <th>4</th>\n",
       "      <td>0</td>\n",
       "      <td>0</td>\n",
       "      <td>1</td>\n",
       "    </tr>\n",
       "    <tr>\n",
       "      <th>...</th>\n",
       "      <td>...</td>\n",
       "      <td>...</td>\n",
       "      <td>...</td>\n",
       "    </tr>\n",
       "    <tr>\n",
       "      <th>884</th>\n",
       "      <td>0</td>\n",
       "      <td>0</td>\n",
       "      <td>1</td>\n",
       "    </tr>\n",
       "    <tr>\n",
       "      <th>885</th>\n",
       "      <td>0</td>\n",
       "      <td>0</td>\n",
       "      <td>1</td>\n",
       "    </tr>\n",
       "    <tr>\n",
       "      <th>886</th>\n",
       "      <td>0</td>\n",
       "      <td>0</td>\n",
       "      <td>1</td>\n",
       "    </tr>\n",
       "    <tr>\n",
       "      <th>887</th>\n",
       "      <td>1</td>\n",
       "      <td>0</td>\n",
       "      <td>0</td>\n",
       "    </tr>\n",
       "    <tr>\n",
       "      <th>888</th>\n",
       "      <td>0</td>\n",
       "      <td>1</td>\n",
       "      <td>0</td>\n",
       "    </tr>\n",
       "  </tbody>\n",
       "</table>\n",
       "<p>889 rows × 3 columns</p>\n",
       "</div>"
      ],
      "text/plain": [
       "     C  Q  S\n",
       "0    0  0  1\n",
       "1    1  0  0\n",
       "2    0  0  1\n",
       "3    0  0  1\n",
       "4    0  0  1\n",
       "..  .. .. ..\n",
       "884  0  0  1\n",
       "885  0  0  1\n",
       "886  0  0  1\n",
       "887  1  0  0\n",
       "888  0  1  0\n",
       "\n",
       "[889 rows x 3 columns]"
      ]
     },
     "execution_count": 224,
     "metadata": {},
     "output_type": "execute_result"
    }
   ],
   "source": [
    "drop"
   ]
  },
  {
   "cell_type": "code",
   "execution_count": 225,
   "id": "60f14485",
   "metadata": {},
   "outputs": [],
   "source": [
    "TitanicData = TitanicData.join(drop)"
   ]
  },
  {
   "cell_type": "code",
   "execution_count": 226,
   "id": "5b0b1036",
   "metadata": {},
   "outputs": [],
   "source": [
    "TitanicData.drop(columns = ['Embarked'],axis = 1, inplace = True)"
   ]
  },
  {
   "cell_type": "code",
   "execution_count": 227,
   "id": "7de272ee",
   "metadata": {},
   "outputs": [
    {
     "data": {
      "text/html": [
       "<div>\n",
       "<style scoped>\n",
       "    .dataframe tbody tr th:only-of-type {\n",
       "        vertical-align: middle;\n",
       "    }\n",
       "\n",
       "    .dataframe tbody tr th {\n",
       "        vertical-align: top;\n",
       "    }\n",
       "\n",
       "    .dataframe thead th {\n",
       "        text-align: right;\n",
       "    }\n",
       "</style>\n",
       "<table border=\"1\" class=\"dataframe\">\n",
       "  <thead>\n",
       "    <tr style=\"text-align: right;\">\n",
       "      <th></th>\n",
       "      <th>Survived</th>\n",
       "      <th>Pclass</th>\n",
       "      <th>Sex</th>\n",
       "      <th>Age</th>\n",
       "      <th>SibSp</th>\n",
       "      <th>Parch</th>\n",
       "      <th>Ticket</th>\n",
       "      <th>Fare</th>\n",
       "      <th>C</th>\n",
       "      <th>Q</th>\n",
       "      <th>S</th>\n",
       "    </tr>\n",
       "  </thead>\n",
       "  <tbody>\n",
       "    <tr>\n",
       "      <th>0</th>\n",
       "      <td>0</td>\n",
       "      <td>3</td>\n",
       "      <td>1</td>\n",
       "      <td>22.0</td>\n",
       "      <td>1</td>\n",
       "      <td>0</td>\n",
       "      <td>A/5 21171</td>\n",
       "      <td>7.2500</td>\n",
       "      <td>0</td>\n",
       "      <td>0</td>\n",
       "      <td>1</td>\n",
       "    </tr>\n",
       "    <tr>\n",
       "      <th>1</th>\n",
       "      <td>1</td>\n",
       "      <td>1</td>\n",
       "      <td>0</td>\n",
       "      <td>38.0</td>\n",
       "      <td>1</td>\n",
       "      <td>0</td>\n",
       "      <td>PC 17599</td>\n",
       "      <td>71.2833</td>\n",
       "      <td>1</td>\n",
       "      <td>0</td>\n",
       "      <td>0</td>\n",
       "    </tr>\n",
       "    <tr>\n",
       "      <th>2</th>\n",
       "      <td>1</td>\n",
       "      <td>3</td>\n",
       "      <td>0</td>\n",
       "      <td>26.0</td>\n",
       "      <td>0</td>\n",
       "      <td>0</td>\n",
       "      <td>STON/O2. 3101282</td>\n",
       "      <td>7.9250</td>\n",
       "      <td>0</td>\n",
       "      <td>0</td>\n",
       "      <td>1</td>\n",
       "    </tr>\n",
       "    <tr>\n",
       "      <th>3</th>\n",
       "      <td>1</td>\n",
       "      <td>1</td>\n",
       "      <td>0</td>\n",
       "      <td>35.0</td>\n",
       "      <td>1</td>\n",
       "      <td>0</td>\n",
       "      <td>113803</td>\n",
       "      <td>53.1000</td>\n",
       "      <td>0</td>\n",
       "      <td>0</td>\n",
       "      <td>1</td>\n",
       "    </tr>\n",
       "    <tr>\n",
       "      <th>4</th>\n",
       "      <td>0</td>\n",
       "      <td>3</td>\n",
       "      <td>1</td>\n",
       "      <td>35.0</td>\n",
       "      <td>0</td>\n",
       "      <td>0</td>\n",
       "      <td>373450</td>\n",
       "      <td>8.0500</td>\n",
       "      <td>0</td>\n",
       "      <td>0</td>\n",
       "      <td>1</td>\n",
       "    </tr>\n",
       "    <tr>\n",
       "      <th>...</th>\n",
       "      <td>...</td>\n",
       "      <td>...</td>\n",
       "      <td>...</td>\n",
       "      <td>...</td>\n",
       "      <td>...</td>\n",
       "      <td>...</td>\n",
       "      <td>...</td>\n",
       "      <td>...</td>\n",
       "      <td>...</td>\n",
       "      <td>...</td>\n",
       "      <td>...</td>\n",
       "    </tr>\n",
       "    <tr>\n",
       "      <th>884</th>\n",
       "      <td>0</td>\n",
       "      <td>2</td>\n",
       "      <td>1</td>\n",
       "      <td>27.0</td>\n",
       "      <td>0</td>\n",
       "      <td>0</td>\n",
       "      <td>211536</td>\n",
       "      <td>13.0000</td>\n",
       "      <td>0</td>\n",
       "      <td>0</td>\n",
       "      <td>1</td>\n",
       "    </tr>\n",
       "    <tr>\n",
       "      <th>885</th>\n",
       "      <td>1</td>\n",
       "      <td>1</td>\n",
       "      <td>0</td>\n",
       "      <td>19.0</td>\n",
       "      <td>0</td>\n",
       "      <td>0</td>\n",
       "      <td>112053</td>\n",
       "      <td>30.0000</td>\n",
       "      <td>0</td>\n",
       "      <td>0</td>\n",
       "      <td>1</td>\n",
       "    </tr>\n",
       "    <tr>\n",
       "      <th>886</th>\n",
       "      <td>0</td>\n",
       "      <td>3</td>\n",
       "      <td>0</td>\n",
       "      <td>NaN</td>\n",
       "      <td>1</td>\n",
       "      <td>2</td>\n",
       "      <td>W./C. 6607</td>\n",
       "      <td>23.4500</td>\n",
       "      <td>0</td>\n",
       "      <td>0</td>\n",
       "      <td>1</td>\n",
       "    </tr>\n",
       "    <tr>\n",
       "      <th>887</th>\n",
       "      <td>1</td>\n",
       "      <td>1</td>\n",
       "      <td>1</td>\n",
       "      <td>26.0</td>\n",
       "      <td>0</td>\n",
       "      <td>0</td>\n",
       "      <td>111369</td>\n",
       "      <td>30.0000</td>\n",
       "      <td>1</td>\n",
       "      <td>0</td>\n",
       "      <td>0</td>\n",
       "    </tr>\n",
       "    <tr>\n",
       "      <th>888</th>\n",
       "      <td>0</td>\n",
       "      <td>3</td>\n",
       "      <td>1</td>\n",
       "      <td>32.0</td>\n",
       "      <td>0</td>\n",
       "      <td>0</td>\n",
       "      <td>370376</td>\n",
       "      <td>7.7500</td>\n",
       "      <td>0</td>\n",
       "      <td>1</td>\n",
       "      <td>0</td>\n",
       "    </tr>\n",
       "  </tbody>\n",
       "</table>\n",
       "<p>889 rows × 11 columns</p>\n",
       "</div>"
      ],
      "text/plain": [
       "     Survived  Pclass  Sex   Age  SibSp  Parch            Ticket     Fare  C  \\\n",
       "0           0       3    1  22.0      1      0         A/5 21171   7.2500  0   \n",
       "1           1       1    0  38.0      1      0          PC 17599  71.2833  1   \n",
       "2           1       3    0  26.0      0      0  STON/O2. 3101282   7.9250  0   \n",
       "3           1       1    0  35.0      1      0            113803  53.1000  0   \n",
       "4           0       3    1  35.0      0      0            373450   8.0500  0   \n",
       "..        ...     ...  ...   ...    ...    ...               ...      ... ..   \n",
       "884         0       2    1  27.0      0      0            211536  13.0000  0   \n",
       "885         1       1    0  19.0      0      0            112053  30.0000  0   \n",
       "886         0       3    0   NaN      1      2        W./C. 6607  23.4500  0   \n",
       "887         1       1    1  26.0      0      0            111369  30.0000  1   \n",
       "888         0       3    1  32.0      0      0            370376   7.7500  0   \n",
       "\n",
       "     Q  S  \n",
       "0    0  1  \n",
       "1    0  0  \n",
       "2    0  1  \n",
       "3    0  1  \n",
       "4    0  1  \n",
       "..  .. ..  \n",
       "884  0  1  \n",
       "885  0  1  \n",
       "886  0  1  \n",
       "887  0  0  \n",
       "888  1  0  \n",
       "\n",
       "[889 rows x 11 columns]"
      ]
     },
     "execution_count": 227,
     "metadata": {},
     "output_type": "execute_result"
    }
   ],
   "source": [
    "TitanicData"
   ]
  },
  {
   "cell_type": "code",
   "execution_count": 228,
   "id": "31d889ba",
   "metadata": {},
   "outputs": [
    {
     "data": {
      "text/plain": [
       "<AxesSubplot:xlabel='Age'>"
      ]
     },
     "execution_count": 228,
     "metadata": {},
     "output_type": "execute_result"
    },
    {
     "data": {
      "image/png": "[encoded data removed]",
      "text/plain": [
       "<Figure size 432x288 with 1 Axes>"
      ]
     },
     "metadata": {
      "needs_background": "light"
     },
     "output_type": "display_data"
    }
   ],
   "source": [
    "#Filling NaN values in 'Age' column\n",
    "sns.boxplot(TitanicData['Age'])\n"
   ]
  },
  {
   "cell_type": "markdown",
   "id": "3b93fce9",
   "metadata": {},
   "source": [
    "There are outliers present in age therefore, mean data will not be used to fill in the missing values since it is affected by outliers"
   ]
  },
  {
   "cell_type": "code",
   "execution_count": 229,
   "id": "d486564e",
   "metadata": {},
   "outputs": [],
   "source": [
    "#Using KNN Imputation technique for imputing missing data.\n",
    "from sklearn.impute import KNNImputer\n",
    "imp = KNNImputer(n_neighbors=2)\n",
    "TitanicData_new= TitanicData.copy()"
   ]
  },
  {
   "cell_type": "code",
   "execution_count": 230,
   "id": "0fa43363",
   "metadata": {},
   "outputs": [],
   "source": [
    "TitanicData_new = imp.fit_transform(TitanicData_new[['Sex','Age']])"
   ]
  },
  {
   "cell_type": "code",
   "execution_count": 231,
   "id": "cb0282ca",
   "metadata": {},
   "outputs": [
    {
     "data": {
      "text/plain": [
       "array([[ 1., 22.],\n",
       "       [ 0., 38.],\n",
       "       [ 0., 26.],\n",
       "       ...,\n",
       "       [ 0., 32.],\n",
       "       [ 1., 26.],\n",
       "       [ 1., 32.]])"
      ]
     },
     "execution_count": 231,
     "metadata": {},
     "output_type": "execute_result"
    }
   ],
   "source": [
    "TitanicData_new "
   ]
  },
  {
   "cell_type": "code",
   "execution_count": 232,
   "id": "c5620f84",
   "metadata": {},
   "outputs": [
    {
     "data": {
      "text/plain": [
       "numpy.ndarray"
      ]
     },
     "execution_count": 232,
     "metadata": {},
     "output_type": "execute_result"
    }
   ],
   "source": [
    "type(TitanicData_new)"
   ]
  },
  {
   "cell_type": "code",
   "execution_count": 233,
   "id": "a41eb868",
   "metadata": {},
   "outputs": [],
   "source": [
    "TitanicData_new = pd.DataFrame(TitanicData_new, columns=['Sex','Age'])"
   ]
  },
  {
   "cell_type": "code",
   "execution_count": 234,
   "id": "d404a870",
   "metadata": {},
   "outputs": [],
   "source": [
    "TitanicData_new.index = TitanicData.index"
   ]
  },
  {
   "cell_type": "code",
   "execution_count": 235,
   "id": "bd2f89ac",
   "metadata": {},
   "outputs": [],
   "source": [
    "TitanicData[['Age','Sex']] = TitanicData_new[['Age','Sex']]"
   ]
  },
  {
   "cell_type": "code",
   "execution_count": 236,
   "id": "489a78eb",
   "metadata": {},
   "outputs": [
    {
     "data": {
      "text/plain": [
       "0"
      ]
     },
     "execution_count": 236,
     "metadata": {},
     "output_type": "execute_result"
    }
   ],
   "source": [
    "TitanicData['Age'].isnull().sum()"
   ]
  },
  {
   "cell_type": "code",
   "execution_count": 237,
   "id": "fe32c4fd",
   "metadata": {},
   "outputs": [
    {
     "data": {
      "text/html": [
       "<div>\n",
       "<style scoped>\n",
       "    .dataframe tbody tr th:only-of-type {\n",
       "        vertical-align: middle;\n",
       "    }\n",
       "\n",
       "    .dataframe tbody tr th {\n",
       "        vertical-align: top;\n",
       "    }\n",
       "\n",
       "    .dataframe thead th {\n",
       "        text-align: right;\n",
       "    }\n",
       "</style>\n",
       "<table border=\"1\" class=\"dataframe\">\n",
       "  <thead>\n",
       "    <tr style=\"text-align: right;\">\n",
       "      <th></th>\n",
       "      <th>Survived</th>\n",
       "      <th>Pclass</th>\n",
       "      <th>Sex</th>\n",
       "      <th>Age</th>\n",
       "      <th>SibSp</th>\n",
       "      <th>Parch</th>\n",
       "      <th>Fare</th>\n",
       "      <th>C</th>\n",
       "      <th>Q</th>\n",
       "      <th>S</th>\n",
       "    </tr>\n",
       "  </thead>\n",
       "  <tbody>\n",
       "    <tr>\n",
       "      <th>Survived</th>\n",
       "      <td>1.000000</td>\n",
       "      <td>-0.335549</td>\n",
       "      <td>-0.541585</td>\n",
       "      <td>-0.061387</td>\n",
       "      <td>-0.034040</td>\n",
       "      <td>0.083151</td>\n",
       "      <td>0.255290</td>\n",
       "      <td>0.169966</td>\n",
       "      <td>0.004536</td>\n",
       "      <td>-0.151777</td>\n",
       "    </tr>\n",
       "    <tr>\n",
       "      <th>Pclass</th>\n",
       "      <td>-0.335549</td>\n",
       "      <td>1.000000</td>\n",
       "      <td>0.127741</td>\n",
       "      <td>-0.327795</td>\n",
       "      <td>0.081656</td>\n",
       "      <td>0.016824</td>\n",
       "      <td>-0.548193</td>\n",
       "      <td>-0.245733</td>\n",
       "      <td>0.220558</td>\n",
       "      <td>0.076466</td>\n",
       "    </tr>\n",
       "    <tr>\n",
       "      <th>Sex</th>\n",
       "      <td>-0.541585</td>\n",
       "      <td>0.127741</td>\n",
       "      <td>1.000000</td>\n",
       "      <td>0.065452</td>\n",
       "      <td>-0.116348</td>\n",
       "      <td>-0.247508</td>\n",
       "      <td>-0.179958</td>\n",
       "      <td>-0.084520</td>\n",
       "      <td>-0.075217</td>\n",
       "      <td>0.121405</td>\n",
       "    </tr>\n",
       "    <tr>\n",
       "      <th>Age</th>\n",
       "      <td>-0.061387</td>\n",
       "      <td>-0.327795</td>\n",
       "      <td>0.065452</td>\n",
       "      <td>1.000000</td>\n",
       "      <td>-0.225819</td>\n",
       "      <td>-0.173839</td>\n",
       "      <td>0.091212</td>\n",
       "      <td>0.034131</td>\n",
       "      <td>-0.004313</td>\n",
       "      <td>-0.027190</td>\n",
       "    </tr>\n",
       "    <tr>\n",
       "      <th>SibSp</th>\n",
       "      <td>-0.034040</td>\n",
       "      <td>0.081656</td>\n",
       "      <td>-0.116348</td>\n",
       "      <td>-0.225819</td>\n",
       "      <td>1.000000</td>\n",
       "      <td>0.414542</td>\n",
       "      <td>0.160887</td>\n",
       "      <td>-0.060074</td>\n",
       "      <td>-0.026692</td>\n",
       "      <td>0.069438</td>\n",
       "    </tr>\n",
       "    <tr>\n",
       "      <th>Parch</th>\n",
       "      <td>0.083151</td>\n",
       "      <td>0.016824</td>\n",
       "      <td>-0.247508</td>\n",
       "      <td>-0.173839</td>\n",
       "      <td>0.414542</td>\n",
       "      <td>1.000000</td>\n",
       "      <td>0.217532</td>\n",
       "      <td>-0.011588</td>\n",
       "      <td>-0.081585</td>\n",
       "      <td>0.061512</td>\n",
       "    </tr>\n",
       "    <tr>\n",
       "      <th>Fare</th>\n",
       "      <td>0.255290</td>\n",
       "      <td>-0.548193</td>\n",
       "      <td>-0.179958</td>\n",
       "      <td>0.091212</td>\n",
       "      <td>0.160887</td>\n",
       "      <td>0.217532</td>\n",
       "      <td>1.000000</td>\n",
       "      <td>0.270731</td>\n",
       "      <td>-0.116684</td>\n",
       "      <td>-0.163758</td>\n",
       "    </tr>\n",
       "    <tr>\n",
       "      <th>C</th>\n",
       "      <td>0.169966</td>\n",
       "      <td>-0.245733</td>\n",
       "      <td>-0.084520</td>\n",
       "      <td>0.034131</td>\n",
       "      <td>-0.060074</td>\n",
       "      <td>-0.011588</td>\n",
       "      <td>0.270731</td>\n",
       "      <td>1.000000</td>\n",
       "      <td>-0.148646</td>\n",
       "      <td>-0.782613</td>\n",
       "    </tr>\n",
       "    <tr>\n",
       "      <th>Q</th>\n",
       "      <td>0.004536</td>\n",
       "      <td>0.220558</td>\n",
       "      <td>-0.075217</td>\n",
       "      <td>-0.004313</td>\n",
       "      <td>-0.026692</td>\n",
       "      <td>-0.081585</td>\n",
       "      <td>-0.116684</td>\n",
       "      <td>-0.148646</td>\n",
       "      <td>1.000000</td>\n",
       "      <td>-0.499261</td>\n",
       "    </tr>\n",
       "    <tr>\n",
       "      <th>S</th>\n",
       "      <td>-0.151777</td>\n",
       "      <td>0.076466</td>\n",
       "      <td>0.121405</td>\n",
       "      <td>-0.027190</td>\n",
       "      <td>0.069438</td>\n",
       "      <td>0.061512</td>\n",
       "      <td>-0.163758</td>\n",
       "      <td>-0.782613</td>\n",
       "      <td>-0.499261</td>\n",
       "      <td>1.000000</td>\n",
       "    </tr>\n",
       "  </tbody>\n",
       "</table>\n",
       "</div>"
      ],
      "text/plain": [
       "          Survived    Pclass       Sex       Age     SibSp     Parch  \\\n",
       "Survived  1.000000 -0.335549 -0.541585 -0.061387 -0.034040  0.083151   \n",
       "Pclass   -0.335549  1.000000  0.127741 -0.327795  0.081656  0.016824   \n",
       "Sex      -0.541585  0.127741  1.000000  0.065452 -0.116348 -0.247508   \n",
       "Age      -0.061387 -0.327795  0.065452  1.000000 -0.225819 -0.173839   \n",
       "SibSp    -0.034040  0.081656 -0.116348 -0.225819  1.000000  0.414542   \n",
       "Parch     0.083151  0.016824 -0.247508 -0.173839  0.414542  1.000000   \n",
       "Fare      0.255290 -0.548193 -0.179958  0.091212  0.160887  0.217532   \n",
       "C         0.169966 -0.245733 -0.084520  0.034131 -0.060074 -0.011588   \n",
       "Q         0.004536  0.220558 -0.075217 -0.004313 -0.026692 -0.081585   \n",
       "S        -0.151777  0.076466  0.121405 -0.027190  0.069438  0.061512   \n",
       "\n",
       "              Fare         C         Q         S  \n",
       "Survived  0.255290  0.169966  0.004536 -0.151777  \n",
       "Pclass   -0.548193 -0.245733  0.220558  0.076466  \n",
       "Sex      -0.179958 -0.084520 -0.075217  0.121405  \n",
       "Age       0.091212  0.034131 -0.004313 -0.027190  \n",
       "SibSp     0.160887 -0.060074 -0.026692  0.069438  \n",
       "Parch     0.217532 -0.011588 -0.081585  0.061512  \n",
       "Fare      1.000000  0.270731 -0.116684 -0.163758  \n",
       "C         0.270731  1.000000 -0.148646 -0.782613  \n",
       "Q        -0.116684 -0.148646  1.000000 -0.499261  \n",
       "S        -0.163758 -0.782613 -0.499261  1.000000  "
      ]
     },
     "execution_count": 237,
     "metadata": {},
     "output_type": "execute_result"
    }
   ],
   "source": [
    "#Finding Correlation\n",
    "t_corr = TitanicData.corr()\n",
    "t_corr"
   ]
  },
  {
   "cell_type": "code",
   "execution_count": 238,
   "id": "40b567db",
   "metadata": {},
   "outputs": [
    {
     "data": {
      "image/png": "[encoded data removed]",
      "text/plain": [
       "<Figure size 432x288 with 2 Axes>"
      ]
     },
     "metadata": {
      "needs_background": "light"
     },
     "output_type": "display_data"
    }
   ],
   "source": [
    "plt.figure\n",
    "sns.heatmap(t_corr,annot=True,linewidth=1)\n",
    "plt.show()"
   ]
  },
  {
   "cell_type": "markdown",
   "id": "fecce190",
   "metadata": {},
   "source": [
    "# Visualizing correlation of feature columns with label column"
   ]
  },
  {
   "cell_type": "code",
   "execution_count": 239,
   "id": "fec4cd2f",
   "metadata": {
    "scrolled": true
   },
   "outputs": [
    {
     "data": {
      "image/png": "[encoded data removed]",
      "text/plain": [
       "<Figure size 1440x576 with 1 Axes>"
      ]
     },
     "metadata": {
      "needs_background": "light"
     },
     "output_type": "display_data"
    }
   ],
   "source": [
    "plt.figure(figsize = (20,8))\n",
    "TitanicData.corr()['Survived'].sort_values(ascending = False).drop(['Survived']).plot(kind='bar',color = 'c')\n",
    "plt.xlabel('Features',fontsize=15)\n",
    "plt.ylabel('Survived',fontsize=15)\n",
    "plt.title('correlation',fontsize = 18)\n",
    "plt.show()"
   ]
  },
  {
   "cell_type": "markdown",
   "id": "2b380416",
   "metadata": {},
   "source": [
    "#It can be observed that 'female' has the highest positive correlation with 'Survived', while 'Male' has the highest negative correlation with 'Survived', Pclass also has a high negative correlation with 'Survived', Fare also has a considerable correlation with 'Survived."
   ]
  },
  {
   "cell_type": "code",
   "execution_count": 240,
   "id": "28fd378d",
   "metadata": {},
   "outputs": [],
   "source": [
    "X = TitanicData.drop(columns = ['Survived'])\n",
    "y = TitanicData['Survived']"
   ]
  },
  {
   "cell_type": "markdown",
   "id": "60d44efc",
   "metadata": {},
   "source": [
    "# Relationship between Dependent Variable and Independent Variables"
   ]
  },
  {
   "cell_type": "code",
   "execution_count": 241,
   "id": "5ccf1f33",
   "metadata": {},
   "outputs": [
    {
     "data": {
      "image/png": "[encoded data removed]",
      "text/plain": [
       "<Figure size 1440x1800 with 2 Axes>"
      ]
     },
     "metadata": {},
     "output_type": "display_data"
    }
   ],
   "source": [
    "plt.figure(figsize=(20,25),facecolor='white')\n",
    "plotnum=1\n",
    "y = TitanicData['Survived']\n",
    "X = TitanicData[['Age','Fare']]\n",
    "for col in X:\n",
    "    if plotnum<=23:\n",
    "        plt.subplot(5,5,plotnum)\n",
    "        sns.barplot(y,X[col])\n",
    "        plt.xlabel('Survived',fontsize=12)\n",
    "        plt.ylabel(col,fontsize=12)\n",
    "    plotnum+=1\n",
    "plt.tight_layout()"
   ]
  },
  {
   "cell_type": "markdown",
   "id": "6940066f",
   "metadata": {},
   "source": [
    "Observed that, there isn't a very strong correlation between passenger age and survival. Observed that the passengers who paid higher fare amounts were more likely to have survived than those who paid lesser amounts."
   ]
  },
  {
   "cell_type": "code",
   "execution_count": 242,
   "id": "de7d8a41",
   "metadata": {},
   "outputs": [
    {
     "data": {
      "image/png": "[encoded data removed]",
      "text/plain": [
       "<Figure size 1440x1800 with 8 Axes>"
      ]
     },
     "metadata": {},
     "output_type": "display_data"
    }
   ],
   "source": [
    "# Relationship between 'Survived' and Categorical Data Columns\n",
    "\n",
    "plt.figure(figsize=(20,25),facecolor='white')\n",
    "plotnum=1\n",
    "y = TitanicData['Survived']\n",
    "X = TitanicData.drop(columns=['Survived','Age','Fare'])\n",
    "for col in X:\n",
    "    if plotnum<=23:\n",
    "        plt.subplot(5,5,plotnum)\n",
    "        sns.barplot(y,X[col])\n",
    "        plt.xlabel('Survived',fontsize=12)\n",
    "        plt.ylabel(col,fontsize=12)\n",
    "    plotnum+=1\n",
    "plt.tight_layout()"
   ]
  },
  {
   "cell_type": "markdown",
   "id": "1dae29a7",
   "metadata": {},
   "source": [
    "From the graphs above, it can be observed that Passengers belonging to Pclass 1 and 2 had highest survival chance. Women had higher chance of survival than men. Passengers who embarked from 'C' had higher chance of Survival than those who had embarked from 'Q' and 'S'"
   ]
  },
  {
   "cell_type": "code",
   "execution_count": 243,
   "id": "bdebacd4",
   "metadata": {},
   "outputs": [],
   "source": [
    "TitanicData['Families'] = TitanicData['Parch']+TitanicData['SibSp']"
   ]
  },
  {
   "cell_type": "code",
   "execution_count": 244,
   "id": "08cd10b4",
   "metadata": {},
   "outputs": [
    {
     "data": {
      "text/plain": [
       "0      1\n",
       "1      1\n",
       "2      0\n",
       "3      1\n",
       "4      0\n",
       "      ..\n",
       "884    0\n",
       "885    0\n",
       "886    3\n",
       "887    0\n",
       "888    0\n",
       "Name: Families, Length: 889, dtype: int64"
      ]
     },
     "execution_count": 244,
     "metadata": {},
     "output_type": "execute_result"
    }
   ],
   "source": [
    "TitanicData['Families']"
   ]
  },
  {
   "cell_type": "code",
   "execution_count": 245,
   "id": "e97ec182",
   "metadata": {},
   "outputs": [
    {
     "data": {
      "text/plain": [
       "<AxesSubplot:xlabel='Survived', ylabel='count'>"
      ]
     },
     "execution_count": 245,
     "metadata": {},
     "output_type": "execute_result"
    },
    {
     "data": {
      "image/png": "[encoded data removed]",
      "text/plain": [
       "<Figure size 432x288 with 1 Axes>"
      ]
     },
     "metadata": {
      "needs_background": "light"
     },
     "output_type": "display_data"
    }
   ],
   "source": [
    "sns.countplot(y, hue =TitanicData['Families'])"
   ]
  },
  {
   "cell_type": "code",
   "execution_count": 246,
   "id": "28163bc3",
   "metadata": {},
   "outputs": [],
   "source": [
    "#Dropping columns 'SibSp' and 'Parch'\n",
    "TitanicData.drop(columns=['SibSp','Parch'],inplace=True )"
   ]
  },
  {
   "cell_type": "code",
   "execution_count": 247,
   "id": "32db0642",
   "metadata": {},
   "outputs": [
    {
     "data": {
      "text/plain": [
       "<AxesSubplot:xlabel='Survived', ylabel='count'>"
      ]
     },
     "execution_count": 247,
     "metadata": {},
     "output_type": "execute_result"
    },
    {
     "data": {
      "image/png": "[encoded data removed]",
      "text/plain": [
       "<Figure size 432x288 with 1 Axes>"
      ]
     },
     "metadata": {
      "needs_background": "light"
     },
     "output_type": "display_data"
    }
   ],
   "source": [
    "sns.countplot(y, hue =TitanicData['Sex'])"
   ]
  },
  {
   "cell_type": "code",
   "execution_count": 248,
   "id": "5eb92339",
   "metadata": {},
   "outputs": [
    {
     "data": {
      "text/plain": [
       "<AxesSubplot:xlabel='Survived', ylabel='Age'>"
      ]
     },
     "execution_count": 248,
     "metadata": {},
     "output_type": "execute_result"
    },
    {
     "data": {
      "image/png": "[encoded data removed]",
      "text/plain": [
       "<Figure size 432x288 with 1 Axes>"
      ]
     },
     "metadata": {
      "needs_background": "light"
     },
     "output_type": "display_data"
    }
   ],
   "source": [
    "sns.barplot(x =TitanicData['Survived'],y = TitanicData['Age'], hue = TitanicData['Sex'])"
   ]
  },
  {
   "cell_type": "markdown",
   "id": "3fbc861f",
   "metadata": {},
   "source": [
    "The survivors the males were mostly young indicating that the young children were given highest priority during rescue and evacuation\n",
    "\n",
    "While the young and able bodied men were able to save themselves and the older ones were unfortunate"
   ]
  },
  {
   "cell_type": "code",
   "execution_count": 249,
   "id": "f62c6895",
   "metadata": {},
   "outputs": [
    {
     "data": {
      "text/html": [
       "<div>\n",
       "<style scoped>\n",
       "    .dataframe tbody tr th:only-of-type {\n",
       "        vertical-align: middle;\n",
       "    }\n",
       "\n",
       "    .dataframe tbody tr th {\n",
       "        vertical-align: top;\n",
       "    }\n",
       "\n",
       "    .dataframe thead th {\n",
       "        text-align: right;\n",
       "    }\n",
       "</style>\n",
       "<table border=\"1\" class=\"dataframe\">\n",
       "  <thead>\n",
       "    <tr style=\"text-align: right;\">\n",
       "      <th></th>\n",
       "      <th>Survived</th>\n",
       "      <th>Pclass</th>\n",
       "      <th>Sex</th>\n",
       "      <th>Age</th>\n",
       "      <th>Ticket</th>\n",
       "      <th>Fare</th>\n",
       "      <th>C</th>\n",
       "      <th>Q</th>\n",
       "      <th>S</th>\n",
       "      <th>Families</th>\n",
       "    </tr>\n",
       "  </thead>\n",
       "  <tbody>\n",
       "    <tr>\n",
       "      <th>0</th>\n",
       "      <td>0</td>\n",
       "      <td>3</td>\n",
       "      <td>1.0</td>\n",
       "      <td>22.0</td>\n",
       "      <td>A/5 21171</td>\n",
       "      <td>7.2500</td>\n",
       "      <td>0</td>\n",
       "      <td>0</td>\n",
       "      <td>1</td>\n",
       "      <td>1</td>\n",
       "    </tr>\n",
       "    <tr>\n",
       "      <th>1</th>\n",
       "      <td>1</td>\n",
       "      <td>1</td>\n",
       "      <td>0.0</td>\n",
       "      <td>38.0</td>\n",
       "      <td>PC 17599</td>\n",
       "      <td>71.2833</td>\n",
       "      <td>1</td>\n",
       "      <td>0</td>\n",
       "      <td>0</td>\n",
       "      <td>1</td>\n",
       "    </tr>\n",
       "    <tr>\n",
       "      <th>2</th>\n",
       "      <td>1</td>\n",
       "      <td>3</td>\n",
       "      <td>0.0</td>\n",
       "      <td>26.0</td>\n",
       "      <td>STON/O2. 3101282</td>\n",
       "      <td>7.9250</td>\n",
       "      <td>0</td>\n",
       "      <td>0</td>\n",
       "      <td>1</td>\n",
       "      <td>0</td>\n",
       "    </tr>\n",
       "    <tr>\n",
       "      <th>3</th>\n",
       "      <td>1</td>\n",
       "      <td>1</td>\n",
       "      <td>0.0</td>\n",
       "      <td>35.0</td>\n",
       "      <td>113803</td>\n",
       "      <td>53.1000</td>\n",
       "      <td>0</td>\n",
       "      <td>0</td>\n",
       "      <td>1</td>\n",
       "      <td>1</td>\n",
       "    </tr>\n",
       "    <tr>\n",
       "      <th>4</th>\n",
       "      <td>0</td>\n",
       "      <td>3</td>\n",
       "      <td>1.0</td>\n",
       "      <td>35.0</td>\n",
       "      <td>373450</td>\n",
       "      <td>8.0500</td>\n",
       "      <td>0</td>\n",
       "      <td>0</td>\n",
       "      <td>1</td>\n",
       "      <td>0</td>\n",
       "    </tr>\n",
       "    <tr>\n",
       "      <th>...</th>\n",
       "      <td>...</td>\n",
       "      <td>...</td>\n",
       "      <td>...</td>\n",
       "      <td>...</td>\n",
       "      <td>...</td>\n",
       "      <td>...</td>\n",
       "      <td>...</td>\n",
       "      <td>...</td>\n",
       "      <td>...</td>\n",
       "      <td>...</td>\n",
       "    </tr>\n",
       "    <tr>\n",
       "      <th>884</th>\n",
       "      <td>0</td>\n",
       "      <td>2</td>\n",
       "      <td>1.0</td>\n",
       "      <td>27.0</td>\n",
       "      <td>211536</td>\n",
       "      <td>13.0000</td>\n",
       "      <td>0</td>\n",
       "      <td>0</td>\n",
       "      <td>1</td>\n",
       "      <td>0</td>\n",
       "    </tr>\n",
       "    <tr>\n",
       "      <th>885</th>\n",
       "      <td>1</td>\n",
       "      <td>1</td>\n",
       "      <td>0.0</td>\n",
       "      <td>19.0</td>\n",
       "      <td>112053</td>\n",
       "      <td>30.0000</td>\n",
       "      <td>0</td>\n",
       "      <td>0</td>\n",
       "      <td>1</td>\n",
       "      <td>0</td>\n",
       "    </tr>\n",
       "    <tr>\n",
       "      <th>886</th>\n",
       "      <td>0</td>\n",
       "      <td>3</td>\n",
       "      <td>0.0</td>\n",
       "      <td>32.0</td>\n",
       "      <td>W./C. 6607</td>\n",
       "      <td>23.4500</td>\n",
       "      <td>0</td>\n",
       "      <td>0</td>\n",
       "      <td>1</td>\n",
       "      <td>3</td>\n",
       "    </tr>\n",
       "    <tr>\n",
       "      <th>887</th>\n",
       "      <td>1</td>\n",
       "      <td>1</td>\n",
       "      <td>1.0</td>\n",
       "      <td>26.0</td>\n",
       "      <td>111369</td>\n",
       "      <td>30.0000</td>\n",
       "      <td>1</td>\n",
       "      <td>0</td>\n",
       "      <td>0</td>\n",
       "      <td>0</td>\n",
       "    </tr>\n",
       "    <tr>\n",
       "      <th>888</th>\n",
       "      <td>0</td>\n",
       "      <td>3</td>\n",
       "      <td>1.0</td>\n",
       "      <td>32.0</td>\n",
       "      <td>370376</td>\n",
       "      <td>7.7500</td>\n",
       "      <td>0</td>\n",
       "      <td>1</td>\n",
       "      <td>0</td>\n",
       "      <td>0</td>\n",
       "    </tr>\n",
       "  </tbody>\n",
       "</table>\n",
       "<p>889 rows × 10 columns</p>\n",
       "</div>"
      ],
      "text/plain": [
       "     Survived  Pclass  Sex   Age            Ticket     Fare  C  Q  S  Families\n",
       "0           0       3  1.0  22.0         A/5 21171   7.2500  0  0  1         1\n",
       "1           1       1  0.0  38.0          PC 17599  71.2833  1  0  0         1\n",
       "2           1       3  0.0  26.0  STON/O2. 3101282   7.9250  0  0  1         0\n",
       "3           1       1  0.0  35.0            113803  53.1000  0  0  1         1\n",
       "4           0       3  1.0  35.0            373450   8.0500  0  0  1         0\n",
       "..        ...     ...  ...   ...               ...      ... .. .. ..       ...\n",
       "884         0       2  1.0  27.0            211536  13.0000  0  0  1         0\n",
       "885         1       1  0.0  19.0            112053  30.0000  0  0  1         0\n",
       "886         0       3  0.0  32.0        W./C. 6607  23.4500  0  0  1         3\n",
       "887         1       1  1.0  26.0            111369  30.0000  1  0  0         0\n",
       "888         0       3  1.0  32.0            370376   7.7500  0  1  0         0\n",
       "\n",
       "[889 rows x 10 columns]"
      ]
     },
     "execution_count": 249,
     "metadata": {},
     "output_type": "execute_result"
    }
   ],
   "source": [
    "TitanicData"
   ]
  },
  {
   "cell_type": "code",
   "execution_count": 252,
   "id": "452d502f",
   "metadata": {},
   "outputs": [],
   "source": [
    "TitanicData.drop(columns=['Ticket'],inplace=True )"
   ]
  },
  {
   "cell_type": "code",
   "execution_count": 253,
   "id": "d0cb3c97",
   "metadata": {},
   "outputs": [
    {
     "data": {
      "text/html": [
       "<div>\n",
       "<style scoped>\n",
       "    .dataframe tbody tr th:only-of-type {\n",
       "        vertical-align: middle;\n",
       "    }\n",
       "\n",
       "    .dataframe tbody tr th {\n",
       "        vertical-align: top;\n",
       "    }\n",
       "\n",
       "    .dataframe thead th {\n",
       "        text-align: right;\n",
       "    }\n",
       "</style>\n",
       "<table border=\"1\" class=\"dataframe\">\n",
       "  <thead>\n",
       "    <tr style=\"text-align: right;\">\n",
       "      <th></th>\n",
       "      <th>Survived</th>\n",
       "      <th>Pclass</th>\n",
       "      <th>Sex</th>\n",
       "      <th>Age</th>\n",
       "      <th>Fare</th>\n",
       "      <th>C</th>\n",
       "      <th>Q</th>\n",
       "      <th>S</th>\n",
       "      <th>Families</th>\n",
       "    </tr>\n",
       "  </thead>\n",
       "  <tbody>\n",
       "    <tr>\n",
       "      <th>0</th>\n",
       "      <td>0</td>\n",
       "      <td>3</td>\n",
       "      <td>1.0</td>\n",
       "      <td>22.0</td>\n",
       "      <td>7.2500</td>\n",
       "      <td>0</td>\n",
       "      <td>0</td>\n",
       "      <td>1</td>\n",
       "      <td>1</td>\n",
       "    </tr>\n",
       "    <tr>\n",
       "      <th>1</th>\n",
       "      <td>1</td>\n",
       "      <td>1</td>\n",
       "      <td>0.0</td>\n",
       "      <td>38.0</td>\n",
       "      <td>71.2833</td>\n",
       "      <td>1</td>\n",
       "      <td>0</td>\n",
       "      <td>0</td>\n",
       "      <td>1</td>\n",
       "    </tr>\n",
       "    <tr>\n",
       "      <th>2</th>\n",
       "      <td>1</td>\n",
       "      <td>3</td>\n",
       "      <td>0.0</td>\n",
       "      <td>26.0</td>\n",
       "      <td>7.9250</td>\n",
       "      <td>0</td>\n",
       "      <td>0</td>\n",
       "      <td>1</td>\n",
       "      <td>0</td>\n",
       "    </tr>\n",
       "    <tr>\n",
       "      <th>3</th>\n",
       "      <td>1</td>\n",
       "      <td>1</td>\n",
       "      <td>0.0</td>\n",
       "      <td>35.0</td>\n",
       "      <td>53.1000</td>\n",
       "      <td>0</td>\n",
       "      <td>0</td>\n",
       "      <td>1</td>\n",
       "      <td>1</td>\n",
       "    </tr>\n",
       "    <tr>\n",
       "      <th>4</th>\n",
       "      <td>0</td>\n",
       "      <td>3</td>\n",
       "      <td>1.0</td>\n",
       "      <td>35.0</td>\n",
       "      <td>8.0500</td>\n",
       "      <td>0</td>\n",
       "      <td>0</td>\n",
       "      <td>1</td>\n",
       "      <td>0</td>\n",
       "    </tr>\n",
       "    <tr>\n",
       "      <th>...</th>\n",
       "      <td>...</td>\n",
       "      <td>...</td>\n",
       "      <td>...</td>\n",
       "      <td>...</td>\n",
       "      <td>...</td>\n",
       "      <td>...</td>\n",
       "      <td>...</td>\n",
       "      <td>...</td>\n",
       "      <td>...</td>\n",
       "    </tr>\n",
       "    <tr>\n",
       "      <th>884</th>\n",
       "      <td>0</td>\n",
       "      <td>2</td>\n",
       "      <td>1.0</td>\n",
       "      <td>27.0</td>\n",
       "      <td>13.0000</td>\n",
       "      <td>0</td>\n",
       "      <td>0</td>\n",
       "      <td>1</td>\n",
       "      <td>0</td>\n",
       "    </tr>\n",
       "    <tr>\n",
       "      <th>885</th>\n",
       "      <td>1</td>\n",
       "      <td>1</td>\n",
       "      <td>0.0</td>\n",
       "      <td>19.0</td>\n",
       "      <td>30.0000</td>\n",
       "      <td>0</td>\n",
       "      <td>0</td>\n",
       "      <td>1</td>\n",
       "      <td>0</td>\n",
       "    </tr>\n",
       "    <tr>\n",
       "      <th>886</th>\n",
       "      <td>0</td>\n",
       "      <td>3</td>\n",
       "      <td>0.0</td>\n",
       "      <td>32.0</td>\n",
       "      <td>23.4500</td>\n",
       "      <td>0</td>\n",
       "      <td>0</td>\n",
       "      <td>1</td>\n",
       "      <td>3</td>\n",
       "    </tr>\n",
       "    <tr>\n",
       "      <th>887</th>\n",
       "      <td>1</td>\n",
       "      <td>1</td>\n",
       "      <td>1.0</td>\n",
       "      <td>26.0</td>\n",
       "      <td>30.0000</td>\n",
       "      <td>1</td>\n",
       "      <td>0</td>\n",
       "      <td>0</td>\n",
       "      <td>0</td>\n",
       "    </tr>\n",
       "    <tr>\n",
       "      <th>888</th>\n",
       "      <td>0</td>\n",
       "      <td>3</td>\n",
       "      <td>1.0</td>\n",
       "      <td>32.0</td>\n",
       "      <td>7.7500</td>\n",
       "      <td>0</td>\n",
       "      <td>1</td>\n",
       "      <td>0</td>\n",
       "      <td>0</td>\n",
       "    </tr>\n",
       "  </tbody>\n",
       "</table>\n",
       "<p>889 rows × 9 columns</p>\n",
       "</div>"
      ],
      "text/plain": [
       "     Survived  Pclass  Sex   Age     Fare  C  Q  S  Families\n",
       "0           0       3  1.0  22.0   7.2500  0  0  1         1\n",
       "1           1       1  0.0  38.0  71.2833  1  0  0         1\n",
       "2           1       3  0.0  26.0   7.9250  0  0  1         0\n",
       "3           1       1  0.0  35.0  53.1000  0  0  1         1\n",
       "4           0       3  1.0  35.0   8.0500  0  0  1         0\n",
       "..        ...     ...  ...   ...      ... .. .. ..       ...\n",
       "884         0       2  1.0  27.0  13.0000  0  0  1         0\n",
       "885         1       1  0.0  19.0  30.0000  0  0  1         0\n",
       "886         0       3  0.0  32.0  23.4500  0  0  1         3\n",
       "887         1       1  1.0  26.0  30.0000  1  0  0         0\n",
       "888         0       3  1.0  32.0   7.7500  0  1  0         0\n",
       "\n",
       "[889 rows x 9 columns]"
      ]
     },
     "execution_count": 253,
     "metadata": {},
     "output_type": "execute_result"
    }
   ],
   "source": [
    "TitanicData"
   ]
  },
  {
   "cell_type": "markdown",
   "id": "b2ef75a1",
   "metadata": {},
   "source": [
    "#Combining 'SibSP' and 'Parch' to form 'Family' column to get a better understanding of correlation between survivors and passengers traveling with thier families."
   ]
  },
  {
   "cell_type": "markdown",
   "id": "037ccfd8",
   "metadata": {},
   "source": [
    "# Handling the Outliers"
   ]
  },
  {
   "cell_type": "code",
   "execution_count": 254,
   "id": "59fc5095",
   "metadata": {},
   "outputs": [],
   "source": [
    "X = TitanicData.drop(columns = ['Survived'])\n",
    "y = TitanicData['Survived']"
   ]
  },
  {
   "cell_type": "code",
   "execution_count": 255,
   "id": "6c938203",
   "metadata": {},
   "outputs": [
    {
     "data": {
      "image/png": "[encoded data removed]",
      "text/plain": [
       "<Figure size 1440x1800 with 2 Axes>"
      ]
     },
     "metadata": {},
     "output_type": "display_data"
    }
   ],
   "source": [
    "plt.figure(figsize=(20,25),facecolor='white')\n",
    "plotnum=1\n",
    "feat= ['Age','Fare']\n",
    "for col in X[feat]:\n",
    "    if plotnum<=11:\n",
    "        plt.subplot(4,4,plotnum)\n",
    "        sns.boxplot(X[col])\n",
    "        plt.xlabel(col,fontsize=12)\n",
    "    plotnum+=1\n",
    "plt.show()"
   ]
  },
  {
   "cell_type": "markdown",
   "id": "2e438135",
   "metadata": {},
   "source": [
    "Removing Outliers using Z score Method"
   ]
  },
  {
   "cell_type": "code",
   "execution_count": 256,
   "id": "1f27f314",
   "metadata": {},
   "outputs": [],
   "source": [
    "df2 = X[feat].copy()"
   ]
  },
  {
   "cell_type": "code",
   "execution_count": 257,
   "id": "99b013a5",
   "metadata": {},
   "outputs": [],
   "source": [
    "from scipy.stats import zscore\n",
    "zscor = zscore(df2)\n",
    "z_score_abs = np.abs(zscor)\n",
    "\n",
    "df3 = df2[(z_score_abs < 3).all(axis=1)] #threshold value is 3"
   ]
  },
  {
   "cell_type": "code",
   "execution_count": 258,
   "id": "c5589841",
   "metadata": {},
   "outputs": [
    {
     "data": {
      "text/plain": [
       "(862, 2)"
      ]
     },
     "execution_count": 258,
     "metadata": {},
     "output_type": "execute_result"
    }
   ],
   "source": [
    "df3.shape"
   ]
  },
  {
   "cell_type": "code",
   "execution_count": 259,
   "id": "66484e95",
   "metadata": {},
   "outputs": [
    {
     "data": {
      "text/plain": [
       "(889, 2)"
      ]
     },
     "execution_count": 259,
     "metadata": {},
     "output_type": "execute_result"
    }
   ],
   "source": [
    "df2.shape"
   ]
  },
  {
   "cell_type": "code",
   "execution_count": 260,
   "id": "a4f863a2",
   "metadata": {},
   "outputs": [],
   "source": [
    "loss = (889-862)/889*100"
   ]
  },
  {
   "cell_type": "code",
   "execution_count": 261,
   "id": "efacc2cc",
   "metadata": {},
   "outputs": [
    {
     "data": {
      "text/plain": [
       "3.0371203599550056"
      ]
     },
     "execution_count": 261,
     "metadata": {},
     "output_type": "execute_result"
    }
   ],
   "source": [
    "loss"
   ]
  },
  {
   "cell_type": "markdown",
   "id": "953c074f",
   "metadata": {},
   "source": [
    "Dataloss is 3.03%"
   ]
  },
  {
   "cell_type": "markdown",
   "id": "013e86da",
   "metadata": {},
   "source": [
    "# Removing Outliers using IQR Method"
   ]
  },
  {
   "cell_type": "code",
   "execution_count": 262,
   "id": "2d82b98f",
   "metadata": {},
   "outputs": [],
   "source": [
    "df =X[feat].copy()"
   ]
  },
  {
   "cell_type": "code",
   "execution_count": 263,
   "id": "fb4ba002",
   "metadata": {},
   "outputs": [],
   "source": [
    "indxdrop = np.array([])\n",
    "for colm in df:\n",
    "    q1 = df[colm].quantile(0.25)\n",
    "    q3 = df[colm].quantile(0.75)\n",
    "    iqr = q3-q1\n",
    "    upperval = q3 + (1.5*iqr)\n",
    "    lowerval = q1 - (1.5*iqr)\n",
    "    col = df[colm]\n",
    "    indx = col[(col > upperval) | (col < lowerval)].index\n",
    "    indxdrop = np.append(indxdrop, indx)"
   ]
  },
  {
   "cell_type": "code",
   "execution_count": 264,
   "id": "446068a8",
   "metadata": {},
   "outputs": [
    {
     "data": {
      "text/plain": [
       "array([  7.,  11.,  15.,  16.,  33.,  54.,  77.,  93.,  95., 115., 118.,\n",
       "       151., 163., 169., 171., 173., 182., 194., 204., 231., 251., 267.,\n",
       "       274., 279., 296., 304., 325., 339., 365., 380., 385., 437., 455.,\n",
       "       466., 468., 478., 482., 486., 491., 492., 529., 544., 554., 569.,\n",
       "       586., 624., 625., 629., 641., 643., 646., 658., 671., 683., 693.,\n",
       "       744., 754., 771., 787., 802., 823., 826., 829., 849., 877.,   1.,\n",
       "        27.,  31.,  34.,  52.,  61.,  71.,  87., 101., 117., 119., 123.,\n",
       "       138., 150., 158., 179., 194., 200., 214., 217., 223., 229., 244.,\n",
       "       255., 256., 257., 261., 267., 268., 274., 289., 290., 296., 298.,\n",
       "       304., 305., 306., 309., 310., 317., 318., 323., 324., 331., 333.,\n",
       "       335., 336., 340., 365., 368., 372., 374., 376., 379., 384., 389.,\n",
       "       392., 411., 434., 437., 444., 452., 483., 485., 495., 497., 503.,\n",
       "       504., 519., 526., 536., 539., 543., 549., 556., 557., 580., 584.,\n",
       "       586., 590., 608., 626., 640., 644., 654., 658., 659., 664., 678.,\n",
       "       680., 688., 697., 699., 707., 715., 729., 736., 740., 741., 744.,\n",
       "       758., 762., 764., 778., 788., 791., 801., 819., 833., 844., 847.,\n",
       "       854., 861., 877.])"
      ]
     },
     "execution_count": 264,
     "metadata": {},
     "output_type": "execute_result"
    }
   ],
   "source": [
    "indxdrop "
   ]
  },
  {
   "cell_type": "code",
   "execution_count": 265,
   "id": "11bc5b7a",
   "metadata": {},
   "outputs": [],
   "source": [
    "df = df.drop(indxdrop)"
   ]
  },
  {
   "cell_type": "code",
   "execution_count": 266,
   "id": "6f168e53",
   "metadata": {},
   "outputs": [
    {
     "data": {
      "text/plain": [
       "(721, 2)"
      ]
     },
     "execution_count": 266,
     "metadata": {},
     "output_type": "execute_result"
    }
   ],
   "source": [
    "df.shape"
   ]
  },
  {
   "cell_type": "code",
   "execution_count": 267,
   "id": "be72bcef",
   "metadata": {},
   "outputs": [
    {
     "data": {
      "text/plain": [
       "18.89763779527559"
      ]
     },
     "execution_count": 267,
     "metadata": {},
     "output_type": "execute_result"
    }
   ],
   "source": [
    "loss=(889-721)/889 * 100\n",
    "loss"
   ]
  },
  {
   "cell_type": "markdown",
   "id": "0291b58a",
   "metadata": {},
   "source": [
    "Dataloss is 18.89% which is outside acceptable range "
   ]
  },
  {
   "cell_type": "markdown",
   "id": "84ec772b",
   "metadata": {},
   "source": [
    "# Using Z score method to reduce outliers"
   ]
  },
  {
   "cell_type": "code",
   "execution_count": 268,
   "id": "fc27021b",
   "metadata": {},
   "outputs": [],
   "source": [
    "dropindx = X.index.difference(df3.index)"
   ]
  },
  {
   "cell_type": "code",
   "execution_count": 269,
   "id": "0c064086",
   "metadata": {},
   "outputs": [
    {
     "data": {
      "text/plain": [
       "Int64Index([ 27,  87,  95, 115, 117, 257, 298, 310, 340, 376, 379, 437, 492,\n",
       "            526, 556, 629, 671, 678, 688, 699, 715, 729, 736, 741, 744, 778,\n",
       "            849],\n",
       "           dtype='int64')"
      ]
     },
     "execution_count": 269,
     "metadata": {},
     "output_type": "execute_result"
    }
   ],
   "source": [
    "dropindx"
   ]
  },
  {
   "cell_type": "code",
   "execution_count": 270,
   "id": "3c90c083",
   "metadata": {},
   "outputs": [],
   "source": [
    "TitanicData.drop(dropindx,inplace = True) #dropping the outliers from original features Dataframe"
   ]
  },
  {
   "cell_type": "code",
   "execution_count": 271,
   "id": "3d6d2829",
   "metadata": {},
   "outputs": [],
   "source": [
    "X = TitanicData.drop(columns = ['Survived'])\n",
    "y = TitanicData['Survived']"
   ]
  },
  {
   "cell_type": "code",
   "execution_count": 272,
   "id": "8d69c825",
   "metadata": {},
   "outputs": [
    {
     "data": {
      "text/plain": [
       "Pclass      0\n",
       "Sex         0\n",
       "Age         0\n",
       "Fare        0\n",
       "C           0\n",
       "Q           0\n",
       "S           0\n",
       "Families    0\n",
       "dtype: int64"
      ]
     },
     "execution_count": 272,
     "metadata": {},
     "output_type": "execute_result"
    }
   ],
   "source": [
    "X.isnull().sum()"
   ]
  },
  {
   "cell_type": "code",
   "execution_count": 273,
   "id": "45307ec8",
   "metadata": {},
   "outputs": [
    {
     "data": {
      "image/png": "[encoded data removed]",
      "text/plain": [
       "<Figure size 1440x1800 with 2 Axes>"
      ]
     },
     "metadata": {},
     "output_type": "display_data"
    }
   ],
   "source": [
    "plt.figure(figsize=(20,25),facecolor='white')\n",
    "plotnum=1\n",
    "feat= ['Age','Fare']\n",
    "for col in X[feat]:\n",
    "    if plotnum<=11:\n",
    "        plt.subplot(4,4,plotnum)\n",
    "        sns.boxplot(X[col])\n",
    "        plt.xlabel(col,fontsize=12)\n",
    "    plotnum+=1\n",
    "plt.show()"
   ]
  },
  {
   "cell_type": "markdown",
   "id": "ba9c6d70",
   "metadata": {},
   "source": [
    "# Normalizing Data Distribution"
   ]
  },
  {
   "cell_type": "code",
   "execution_count": 274,
   "id": "a0770df2",
   "metadata": {},
   "outputs": [
    {
     "data": {
      "text/plain": [
       "Age     0.238238\n",
       "Fare    2.279424\n",
       "dtype: float64"
      ]
     },
     "execution_count": 274,
     "metadata": {},
     "output_type": "execute_result"
    }
   ],
   "source": [
    "X[feat].skew()"
   ]
  },
  {
   "cell_type": "code",
   "execution_count": 275,
   "id": "6a9e422c",
   "metadata": {},
   "outputs": [
    {
     "data": {
      "text/plain": [
       "Age      0\n",
       "Fare    15\n",
       "dtype: int64"
      ]
     },
     "execution_count": 275,
     "metadata": {},
     "output_type": "execute_result"
    }
   ],
   "source": [
    "(X[feat]==0).sum()"
   ]
  },
  {
   "cell_type": "markdown",
   "id": "d3a3e8e2",
   "metadata": {},
   "source": [
    "Outliers present- mean data will not be used to fill in the missing values since it is affected by outliers."
   ]
  },
  {
   "cell_type": "code",
   "execution_count": 276,
   "id": "d0fae503",
   "metadata": {},
   "outputs": [],
   "source": [
    "# Using KNN Imputation technique for imputing missing data.\n",
    "imp = KNNImputer(n_neighbors=2)"
   ]
  },
  {
   "cell_type": "code",
   "execution_count": 277,
   "id": "82fdc625",
   "metadata": {},
   "outputs": [],
   "source": [
    "X_filled = X.copy()"
   ]
  },
  {
   "cell_type": "code",
   "execution_count": 278,
   "id": "963b370e",
   "metadata": {},
   "outputs": [],
   "source": [
    "X_filled = imp.fit_transform(X_filled[['Pclass','Fare']])"
   ]
  },
  {
   "cell_type": "code",
   "execution_count": 279,
   "id": "fbe3b4eb",
   "metadata": {},
   "outputs": [
    {
     "data": {
      "text/plain": [
       "array([[ 3.    ,  7.25  ],\n",
       "       [ 1.    , 71.2833],\n",
       "       [ 3.    ,  7.925 ],\n",
       "       ...,\n",
       "       [ 3.    , 23.45  ],\n",
       "       [ 1.    , 30.    ],\n",
       "       [ 3.    ,  7.75  ]])"
      ]
     },
     "execution_count": 279,
     "metadata": {},
     "output_type": "execute_result"
    }
   ],
   "source": [
    "X_filled"
   ]
  },
  {
   "cell_type": "code",
   "execution_count": 280,
   "id": "bd6fd203",
   "metadata": {},
   "outputs": [
    {
     "data": {
      "text/plain": [
       "numpy.ndarray"
      ]
     },
     "execution_count": 280,
     "metadata": {},
     "output_type": "execute_result"
    }
   ],
   "source": [
    "type(X_filled)"
   ]
  },
  {
   "cell_type": "code",
   "execution_count": 281,
   "id": "ad15e5b1",
   "metadata": {},
   "outputs": [],
   "source": [
    "X_filled = pd.DataFrame(X_filled, columns=['Pclass','Fare'])"
   ]
  },
  {
   "cell_type": "code",
   "execution_count": 282,
   "id": "bfecbc2b",
   "metadata": {},
   "outputs": [],
   "source": [
    "X_filled.index = X.index"
   ]
  },
  {
   "cell_type": "code",
   "execution_count": 283,
   "id": "cb7ba798",
   "metadata": {},
   "outputs": [],
   "source": [
    "X[['Pclass','Fare']] = X_filled[['Pclass','Fare']]"
   ]
  },
  {
   "cell_type": "code",
   "execution_count": 284,
   "id": "99976b06",
   "metadata": {},
   "outputs": [
    {
     "data": {
      "text/plain": [
       "0"
      ]
     },
     "execution_count": 284,
     "metadata": {},
     "output_type": "execute_result"
    }
   ],
   "source": [
    "X['Fare'].isnull().sum()"
   ]
  },
  {
   "cell_type": "markdown",
   "id": "ec1ea83f",
   "metadata": {},
   "source": [
    "no missing values from fare coloumn "
   ]
  },
  {
   "cell_type": "code",
   "execution_count": 285,
   "id": "24b8624b",
   "metadata": {},
   "outputs": [
    {
     "data": {
      "text/plain": [
       "Pclass     -0.715372\n",
       "Sex        -0.639189\n",
       "Age         0.238238\n",
       "Fare        2.279424\n",
       "C           1.680697\n",
       "Q           2.910027\n",
       "S          -1.056235\n",
       "Families    2.802387\n",
       "dtype: float64"
      ]
     },
     "execution_count": 285,
     "metadata": {},
     "output_type": "execute_result"
    }
   ],
   "source": [
    "X.skew()"
   ]
  },
  {
   "cell_type": "markdown",
   "id": "00741995",
   "metadata": {},
   "source": [
    "Reducing skewness further using PowerTransformer"
   ]
  },
  {
   "cell_type": "code",
   "execution_count": 286,
   "id": "a62eb871",
   "metadata": {},
   "outputs": [],
   "source": [
    "from sklearn.preprocessing import PowerTransformer"
   ]
  },
  {
   "cell_type": "code",
   "execution_count": 287,
   "id": "a2d0b2e0",
   "metadata": {},
   "outputs": [
    {
     "data": {
      "text/plain": [
       "Fare       -0.009414\n",
       "Families    0.546482\n",
       "dtype: float64"
      ]
     },
     "execution_count": 287,
     "metadata": {},
     "output_type": "execute_result"
    }
   ],
   "source": [
    "powtrans= PowerTransformer(method='yeo-johnson', standardize=True)\n",
    "df4 = X[['Fare','Families']]\n",
    "transformed= powtrans.fit_transform(df4)\n",
    "transformed = pd.DataFrame(transformed, columns=df4.columns) #to convert numpy array back into dataframe\n",
    "transformed.skew()"
   ]
  },
  {
   "cell_type": "code",
   "execution_count": 288,
   "id": "187746bd",
   "metadata": {},
   "outputs": [
    {
     "data": {
      "text/plain": [
       "Pclass     -0.715372\n",
       "Sex        -0.639189\n",
       "Age         0.238238\n",
       "Fare       -0.009414\n",
       "C           1.680697\n",
       "Q           2.910027\n",
       "S          -1.056235\n",
       "Families    0.546482\n",
       "dtype: float64"
      ]
     },
     "execution_count": 288,
     "metadata": {},
     "output_type": "execute_result"
    }
   ],
   "source": [
    "transformed.index = X.index\n",
    "X[['Fare','Families']] = transformed[['Fare','Families']]\n",
    "X.skew()"
   ]
  },
  {
   "cell_type": "code",
   "execution_count": 289,
   "id": "90ccf652",
   "metadata": {},
   "outputs": [
    {
     "data": {
      "text/plain": [
       "Pclass      0\n",
       "Sex         0\n",
       "Age         0\n",
       "Fare        0\n",
       "C           0\n",
       "Q           0\n",
       "S           0\n",
       "Families    0\n",
       "dtype: int64"
      ]
     },
     "execution_count": 289,
     "metadata": {},
     "output_type": "execute_result"
    }
   ],
   "source": [
    "X.isnull().sum()"
   ]
  },
  {
   "cell_type": "code",
   "execution_count": 290,
   "id": "20aaf4ea",
   "metadata": {
    "scrolled": true
   },
   "outputs": [
    {
     "data": {
      "text/html": [
       "<div>\n",
       "<style scoped>\n",
       "    .dataframe tbody tr th:only-of-type {\n",
       "        vertical-align: middle;\n",
       "    }\n",
       "\n",
       "    .dataframe tbody tr th {\n",
       "        vertical-align: top;\n",
       "    }\n",
       "\n",
       "    .dataframe thead th {\n",
       "        text-align: right;\n",
       "    }\n",
       "</style>\n",
       "<table border=\"1\" class=\"dataframe\">\n",
       "  <thead>\n",
       "    <tr style=\"text-align: right;\">\n",
       "      <th></th>\n",
       "      <th>Survived</th>\n",
       "      <th>Pclass</th>\n",
       "      <th>Sex</th>\n",
       "      <th>Age</th>\n",
       "      <th>Fare</th>\n",
       "      <th>C</th>\n",
       "      <th>Q</th>\n",
       "      <th>S</th>\n",
       "      <th>Families</th>\n",
       "    </tr>\n",
       "  </thead>\n",
       "  <tbody>\n",
       "    <tr>\n",
       "      <th>0</th>\n",
       "      <td>0</td>\n",
       "      <td>3</td>\n",
       "      <td>1.0</td>\n",
       "      <td>22.0</td>\n",
       "      <td>7.2500</td>\n",
       "      <td>0</td>\n",
       "      <td>0</td>\n",
       "      <td>1</td>\n",
       "      <td>1</td>\n",
       "    </tr>\n",
       "    <tr>\n",
       "      <th>1</th>\n",
       "      <td>1</td>\n",
       "      <td>1</td>\n",
       "      <td>0.0</td>\n",
       "      <td>38.0</td>\n",
       "      <td>71.2833</td>\n",
       "      <td>1</td>\n",
       "      <td>0</td>\n",
       "      <td>0</td>\n",
       "      <td>1</td>\n",
       "    </tr>\n",
       "    <tr>\n",
       "      <th>2</th>\n",
       "      <td>1</td>\n",
       "      <td>3</td>\n",
       "      <td>0.0</td>\n",
       "      <td>26.0</td>\n",
       "      <td>7.9250</td>\n",
       "      <td>0</td>\n",
       "      <td>0</td>\n",
       "      <td>1</td>\n",
       "      <td>0</td>\n",
       "    </tr>\n",
       "    <tr>\n",
       "      <th>3</th>\n",
       "      <td>1</td>\n",
       "      <td>1</td>\n",
       "      <td>0.0</td>\n",
       "      <td>35.0</td>\n",
       "      <td>53.1000</td>\n",
       "      <td>0</td>\n",
       "      <td>0</td>\n",
       "      <td>1</td>\n",
       "      <td>1</td>\n",
       "    </tr>\n",
       "    <tr>\n",
       "      <th>4</th>\n",
       "      <td>0</td>\n",
       "      <td>3</td>\n",
       "      <td>1.0</td>\n",
       "      <td>35.0</td>\n",
       "      <td>8.0500</td>\n",
       "      <td>0</td>\n",
       "      <td>0</td>\n",
       "      <td>1</td>\n",
       "      <td>0</td>\n",
       "    </tr>\n",
       "    <tr>\n",
       "      <th>...</th>\n",
       "      <td>...</td>\n",
       "      <td>...</td>\n",
       "      <td>...</td>\n",
       "      <td>...</td>\n",
       "      <td>...</td>\n",
       "      <td>...</td>\n",
       "      <td>...</td>\n",
       "      <td>...</td>\n",
       "      <td>...</td>\n",
       "    </tr>\n",
       "    <tr>\n",
       "      <th>884</th>\n",
       "      <td>0</td>\n",
       "      <td>2</td>\n",
       "      <td>1.0</td>\n",
       "      <td>27.0</td>\n",
       "      <td>13.0000</td>\n",
       "      <td>0</td>\n",
       "      <td>0</td>\n",
       "      <td>1</td>\n",
       "      <td>0</td>\n",
       "    </tr>\n",
       "    <tr>\n",
       "      <th>885</th>\n",
       "      <td>1</td>\n",
       "      <td>1</td>\n",
       "      <td>0.0</td>\n",
       "      <td>19.0</td>\n",
       "      <td>30.0000</td>\n",
       "      <td>0</td>\n",
       "      <td>0</td>\n",
       "      <td>1</td>\n",
       "      <td>0</td>\n",
       "    </tr>\n",
       "    <tr>\n",
       "      <th>886</th>\n",
       "      <td>0</td>\n",
       "      <td>3</td>\n",
       "      <td>0.0</td>\n",
       "      <td>32.0</td>\n",
       "      <td>23.4500</td>\n",
       "      <td>0</td>\n",
       "      <td>0</td>\n",
       "      <td>1</td>\n",
       "      <td>3</td>\n",
       "    </tr>\n",
       "    <tr>\n",
       "      <th>887</th>\n",
       "      <td>1</td>\n",
       "      <td>1</td>\n",
       "      <td>1.0</td>\n",
       "      <td>26.0</td>\n",
       "      <td>30.0000</td>\n",
       "      <td>1</td>\n",
       "      <td>0</td>\n",
       "      <td>0</td>\n",
       "      <td>0</td>\n",
       "    </tr>\n",
       "    <tr>\n",
       "      <th>888</th>\n",
       "      <td>0</td>\n",
       "      <td>3</td>\n",
       "      <td>1.0</td>\n",
       "      <td>32.0</td>\n",
       "      <td>7.7500</td>\n",
       "      <td>0</td>\n",
       "      <td>1</td>\n",
       "      <td>0</td>\n",
       "      <td>0</td>\n",
       "    </tr>\n",
       "  </tbody>\n",
       "</table>\n",
       "<p>862 rows × 9 columns</p>\n",
       "</div>"
      ],
      "text/plain": [
       "     Survived  Pclass  Sex   Age     Fare  C  Q  S  Families\n",
       "0           0       3  1.0  22.0   7.2500  0  0  1         1\n",
       "1           1       1  0.0  38.0  71.2833  1  0  0         1\n",
       "2           1       3  0.0  26.0   7.9250  0  0  1         0\n",
       "3           1       1  0.0  35.0  53.1000  0  0  1         1\n",
       "4           0       3  1.0  35.0   8.0500  0  0  1         0\n",
       "..        ...     ...  ...   ...      ... .. .. ..       ...\n",
       "884         0       2  1.0  27.0  13.0000  0  0  1         0\n",
       "885         1       1  0.0  19.0  30.0000  0  0  1         0\n",
       "886         0       3  0.0  32.0  23.4500  0  0  1         3\n",
       "887         1       1  1.0  26.0  30.0000  1  0  0         0\n",
       "888         0       3  1.0  32.0   7.7500  0  1  0         0\n",
       "\n",
       "[862 rows x 9 columns]"
      ]
     },
     "execution_count": 290,
     "metadata": {},
     "output_type": "execute_result"
    }
   ],
   "source": [
    "TitanicData"
   ]
  },
  {
   "cell_type": "code",
   "execution_count": 292,
   "id": "6eb0f7d1",
   "metadata": {},
   "outputs": [
    {
     "data": {
      "image/png": "[encoded data removed]",
      "text/plain": [
       "<Figure size 1440x1800 with 8 Axes>"
      ]
     },
     "metadata": {},
     "output_type": "display_data"
    }
   ],
   "source": [
    "plt.figure(figsize=(20,25),facecolor='white')\n",
    "plotnum=1\n",
    "for col in X:\n",
    "    if plotnum<=10:\n",
    "        plt.subplot(4,4,plotnum)\n",
    "        sns.distplot(X[col])\n",
    "        plt.xlabel(col,fontsize=20)\n",
    "    plotnum+=1\n",
    "plt.show()"
   ]
  },
  {
   "cell_type": "code",
   "execution_count": null,
   "id": "a6179523",
   "metadata": {},
   "outputs": [],
   "source": []
  },
  {
   "cell_type": "code",
   "execution_count": null,
   "id": "5058b013",
   "metadata": {},
   "outputs": [],
   "source": []
  },
  {
   "cell_type": "markdown",
   "id": "bc9c9839",
   "metadata": {},
   "source": []
  },
  {
   "cell_type": "markdown",
   "id": "9d3c7fc2",
   "metadata": {},
   "source": [
    "# Feature Selection"
   ]
  },
  {
   "cell_type": "code",
   "execution_count": 293,
   "id": "6906eee1",
   "metadata": {},
   "outputs": [
    {
     "data": {
      "text/plain": [
       "array([[ 0.7994893 ,  0.73062154, -0.58138018, ..., -0.31095355,\n",
       "         0.60326118,  0.90850781],\n",
       "       [-1.64868042, -1.36869768,  0.702247  , ..., -0.31095355,\n",
       "        -1.65765681,  0.90850781],\n",
       "       [ 0.7994893 , -1.36869768, -0.26047338, ..., -0.31095355,\n",
       "         0.60326118, -0.79210461],\n",
       "       ...,\n",
       "       [ 0.7994893 , -1.36869768,  0.22088681, ..., -0.31095355,\n",
       "         0.60326118,  1.52047922],\n",
       "       [-1.64868042,  0.73062154, -0.26047338, ..., -0.31095355,\n",
       "        -1.65765681, -0.79210461],\n",
       "       [ 0.7994893 ,  0.73062154,  0.22088681, ...,  3.21591437,\n",
       "        -1.65765681, -0.79210461]])"
      ]
     },
     "execution_count": 293,
     "metadata": {},
     "output_type": "execute_result"
    }
   ],
   "source": [
    "from sklearn.preprocessing import StandardScaler\n",
    "scaler= StandardScaler()\n",
    "scaled_X = scaler.fit_transform(X)\n",
    "scaled_X "
   ]
  },
  {
   "cell_type": "markdown",
   "id": "1ef12260",
   "metadata": {},
   "source": [
    "# Checking for Multicollinearity using Variance Inflation Factor"
   ]
  },
  {
   "cell_type": "code",
   "execution_count": 294,
   "id": "4eed53f3",
   "metadata": {},
   "outputs": [],
   "source": [
    "from statsmodels.stats.outliers_influence import variance_inflation_factor"
   ]
  },
  {
   "cell_type": "code",
   "execution_count": 295,
   "id": "d59d3ae9",
   "metadata": {},
   "outputs": [
    {
     "data": {
      "text/html": [
       "<div>\n",
       "<style scoped>\n",
       "    .dataframe tbody tr th:only-of-type {\n",
       "        vertical-align: middle;\n",
       "    }\n",
       "\n",
       "    .dataframe tbody tr th {\n",
       "        vertical-align: top;\n",
       "    }\n",
       "\n",
       "    .dataframe thead th {\n",
       "        text-align: right;\n",
       "    }\n",
       "</style>\n",
       "<table border=\"1\" class=\"dataframe\">\n",
       "  <thead>\n",
       "    <tr style=\"text-align: right;\">\n",
       "      <th></th>\n",
       "      <th>Features</th>\n",
       "      <th>vif</th>\n",
       "    </tr>\n",
       "  </thead>\n",
       "  <tbody>\n",
       "    <tr>\n",
       "      <th>0</th>\n",
       "      <td>Pclass</td>\n",
       "      <td>2.090198</td>\n",
       "    </tr>\n",
       "    <tr>\n",
       "      <th>1</th>\n",
       "      <td>Sex</td>\n",
       "      <td>1.143503</td>\n",
       "    </tr>\n",
       "    <tr>\n",
       "      <th>2</th>\n",
       "      <td>Age</td>\n",
       "      <td>1.205194</td>\n",
       "    </tr>\n",
       "    <tr>\n",
       "      <th>3</th>\n",
       "      <td>Fare</td>\n",
       "      <td>2.514240</td>\n",
       "    </tr>\n",
       "    <tr>\n",
       "      <th>4</th>\n",
       "      <td>C</td>\n",
       "      <td>inf</td>\n",
       "    </tr>\n",
       "    <tr>\n",
       "      <th>5</th>\n",
       "      <td>Q</td>\n",
       "      <td>inf</td>\n",
       "    </tr>\n",
       "    <tr>\n",
       "      <th>6</th>\n",
       "      <td>S</td>\n",
       "      <td>inf</td>\n",
       "    </tr>\n",
       "    <tr>\n",
       "      <th>7</th>\n",
       "      <td>Families</td>\n",
       "      <td>1.656581</td>\n",
       "    </tr>\n",
       "  </tbody>\n",
       "</table>\n",
       "</div>"
      ],
      "text/plain": [
       "   Features       vif\n",
       "0    Pclass  2.090198\n",
       "1       Sex  1.143503\n",
       "2       Age  1.205194\n",
       "3      Fare  2.514240\n",
       "4         C       inf\n",
       "5         Q       inf\n",
       "6         S       inf\n",
       "7  Families  1.656581"
      ]
     },
     "execution_count": 295,
     "metadata": {},
     "output_type": "execute_result"
    }
   ],
   "source": [
    "vif = pd.DataFrame()\n",
    "vif[\"Features\"] = X.columns\n",
    "vif['vif'] = [variance_inflation_factor(scaled_X,i) for i in range(scaled_X.shape[1])]\n",
    "vif"
   ]
  },
  {
   "cell_type": "markdown",
   "id": "e9565cbb",
   "metadata": {},
   "source": [
    "# Selecting Kbest Features¶"
   ]
  },
  {
   "cell_type": "code",
   "execution_count": 291,
   "id": "b790d22c",
   "metadata": {},
   "outputs": [
    {
     "name": "stdout",
     "output_type": "stream",
     "text": [
      "    Feature       Score\n",
      "1       Sex  339.693591\n",
      "0    Pclass  105.325560\n",
      "3      Fare   97.228558\n",
      "7  Families   28.326530\n",
      "4         C   23.201391\n",
      "6         S   19.167697\n",
      "2       Age    2.575024\n",
      "5         Q    0.111014\n"
     ]
    }
   ],
   "source": [
    "from sklearn.feature_selection import SelectKBest, f_classif\n",
    "bestfeat = SelectKBest(score_func = f_classif, k = 8)\n",
    "fit = bestfeat.fit(X,y)\n",
    "dfscores = pd.DataFrame(fit.scores_)\n",
    "dfcolumns = pd.DataFrame(X.columns)\n",
    "fit = bestfeat.fit(X,y)\n",
    "dfscores = pd.DataFrame(fit.scores_)\n",
    "dfcolumns = pd.DataFrame(X.columns)\n",
    "dfcolumns.head()\n",
    "featureScores = pd.concat([dfcolumns,dfscores],axis = 1)\n",
    "featureScores.columns = ['Feature', 'Score']\n",
    "print(featureScores.nlargest(11,'Score'))\n"
   ]
  },
  {
   "cell_type": "markdown",
   "id": "9ef5f6cd",
   "metadata": {},
   "source": [
    "# Buidling classification model"
   ]
  },
  {
   "cell_type": "code",
   "execution_count": 296,
   "id": "c6edbfad",
   "metadata": {},
   "outputs": [],
   "source": [
    "from sklearn.model_selection import train_test_split"
   ]
  },
  {
   "cell_type": "code",
   "execution_count": 297,
   "id": "2f88ff9e",
   "metadata": {},
   "outputs": [
    {
     "name": "stdout",
     "output_type": "stream",
     "text": [
      "Best Accuracy is: 0.8470149253731343 on random_state: 42\n"
     ]
    }
   ],
   "source": [
    "#Finding the best random state\n",
    "from sklearn.ensemble import RandomForestClassifier\n",
    "from sklearn.metrics import accuracy_score\n",
    "maxAcc = 0\n",
    "maxRS=0\n",
    "for i in range(1,100):\n",
    "    x_train,x_test,y_train,y_test = train_test_split(scaled_X,y,test_size = .31, random_state = i,stratify = y)\n",
    "    modRF =  RandomForestClassifier()\n",
    "    modRF.fit(x_train,y_train)\n",
    "    pred = modRF.predict(x_test)\n",
    "    acc  = accuracy_score(y_test,pred)\n",
    "    if acc>maxAcc:\n",
    "        maxAcc=acc\n",
    "        maxRS=i\n",
    "print(f\"Best Accuracy is: {maxAcc} on random_state: {maxRS}\")"
   ]
  },
  {
   "cell_type": "code",
   "execution_count": 298,
   "id": "f7d9d2d0",
   "metadata": {},
   "outputs": [],
   "source": [
    "x_train,x_test,y_train,y_test = train_test_split(scaled_X,y,test_size = .31, stratify = y,random_state = 16)"
   ]
  },
  {
   "cell_type": "code",
   "execution_count": 299,
   "id": "01583f0b",
   "metadata": {},
   "outputs": [],
   "source": [
    "from sklearn.model_selection import train_test_split\n",
    "from sklearn.metrics import accuracy_score, confusion_matrix, roc_curve, roc_auc_score\n",
    "from sklearn.metrics import classification_report\n",
    "from sklearn.metrics import plot_roc_curve"
   ]
  },
  {
   "cell_type": "code",
   "execution_count": 300,
   "id": "75a26a97",
   "metadata": {},
   "outputs": [],
   "source": [
    "from sklearn.linear_model import LogisticRegression\n",
    "from sklearn.tree import DecisionTreeClassifier\n",
    "from sklearn.svm import SVC\n",
    "from sklearn.neighbors import KNeighborsClassifier"
   ]
  },
  {
   "cell_type": "code",
   "execution_count": 301,
   "id": "ca8813f2",
   "metadata": {},
   "outputs": [],
   "source": [
    "DTC = DecisionTreeClassifier()\n",
    "RFC = RandomForestClassifier()\n",
    "LOGR= LogisticRegression(solver='liblinear')\n",
    "SV =  SVC()\n",
    "KNN = KNeighborsClassifier()"
   ]
  },
  {
   "cell_type": "code",
   "execution_count": 302,
   "id": "ee0163b1",
   "metadata": {},
   "outputs": [
    {
     "data": {
      "text/plain": [
       "KNeighborsClassifier()"
      ]
     },
     "execution_count": 302,
     "metadata": {},
     "output_type": "execute_result"
    }
   ],
   "source": [
    "#Training the Models\n",
    "DTC.fit(x_train,y_train)\n",
    "RFC.fit(x_train,y_train)\n",
    "SV.fit(x_train,y_train)\n",
    "LOGR.fit(x_train,y_train)\n",
    "KNN.fit(x_train,y_train)"
   ]
  },
  {
   "cell_type": "code",
   "execution_count": 303,
   "id": "2392ce12",
   "metadata": {},
   "outputs": [
    {
     "data": {
      "text/plain": [
       "array([[145,  22],\n",
       "       [ 25,  76]], dtype=int64)"
      ]
     },
     "execution_count": 303,
     "metadata": {},
     "output_type": "execute_result"
    }
   ],
   "source": [
    "DTCpred = DTC.predict(x_test)\n",
    "accu = classification_report(y_test,DTCpred)\n",
    "conf_matrx = confusion_matrix(y_test,DTCpred)\n",
    "conf_matrx"
   ]
  },
  {
   "cell_type": "code",
   "execution_count": 304,
   "id": "44f30562",
   "metadata": {},
   "outputs": [
    {
     "name": "stdout",
     "output_type": "stream",
     "text": [
      "              precision    recall  f1-score   support\n",
      "\n",
      "           0       0.85      0.87      0.86       167\n",
      "           1       0.78      0.75      0.76       101\n",
      "\n",
      "    accuracy                           0.82       268\n",
      "   macro avg       0.81      0.81      0.81       268\n",
      "weighted avg       0.82      0.82      0.82       268\n",
      "\n"
     ]
    }
   ],
   "source": [
    "print(accu)"
   ]
  },
  {
   "cell_type": "markdown",
   "id": "887a078c",
   "metadata": {},
   "source": [
    "# Logistic Regression Model Accuracy"
   ]
  },
  {
   "cell_type": "code",
   "execution_count": 305,
   "id": "9e616dd8",
   "metadata": {},
   "outputs": [
    {
     "data": {
      "text/plain": [
       "array([[147,  20],\n",
       "       [ 23,  78]], dtype=int64)"
      ]
     },
     "execution_count": 305,
     "metadata": {},
     "output_type": "execute_result"
    }
   ],
   "source": [
    "LOGRpred = LOGR.predict(x_test)\n",
    "accu = classification_report(y_test,LOGRpred)\n",
    "conf_matrx = confusion_matrix(y_test,LOGRpred)\n",
    "conf_matrx"
   ]
  },
  {
   "cell_type": "code",
   "execution_count": 306,
   "id": "f3aa9e46",
   "metadata": {},
   "outputs": [
    {
     "name": "stdout",
     "output_type": "stream",
     "text": [
      "              precision    recall  f1-score   support\n",
      "\n",
      "           0       0.86      0.88      0.87       167\n",
      "           1       0.80      0.77      0.78       101\n",
      "\n",
      "    accuracy                           0.84       268\n",
      "   macro avg       0.83      0.83      0.83       268\n",
      "weighted avg       0.84      0.84      0.84       268\n",
      "\n"
     ]
    }
   ],
   "source": [
    "print(accu)"
   ]
  },
  {
   "cell_type": "markdown",
   "id": "a3bc7a6a",
   "metadata": {},
   "source": [
    "# Random Forest Classifier Model Accuracy"
   ]
  },
  {
   "cell_type": "code",
   "execution_count": 307,
   "id": "17953499",
   "metadata": {},
   "outputs": [
    {
     "data": {
      "text/plain": [
       "array([[148,  19],\n",
       "       [ 18,  83]], dtype=int64)"
      ]
     },
     "execution_count": 307,
     "metadata": {},
     "output_type": "execute_result"
    }
   ],
   "source": [
    "RFCpred = RFC.predict(x_test)\n",
    "accu = classification_report(y_test,RFCpred)\n",
    "conf_matrx = confusion_matrix(y_test,RFCpred)\n",
    "conf_matrx"
   ]
  },
  {
   "cell_type": "code",
   "execution_count": 308,
   "id": "2c3059a8",
   "metadata": {},
   "outputs": [
    {
     "name": "stdout",
     "output_type": "stream",
     "text": [
      "              precision    recall  f1-score   support\n",
      "\n",
      "           0       0.89      0.89      0.89       167\n",
      "           1       0.81      0.82      0.82       101\n",
      "\n",
      "    accuracy                           0.86       268\n",
      "   macro avg       0.85      0.85      0.85       268\n",
      "weighted avg       0.86      0.86      0.86       268\n",
      "\n"
     ]
    }
   ],
   "source": [
    "print(accu)"
   ]
  },
  {
   "cell_type": "markdown",
   "id": "2fa8ecd7",
   "metadata": {},
   "source": [
    "# SV Classifier Model Accuracy"
   ]
  },
  {
   "cell_type": "code",
   "execution_count": 309,
   "id": "2baad532",
   "metadata": {},
   "outputs": [
    {
     "data": {
      "text/plain": [
       "array([[161,   6],\n",
       "       [ 34,  67]], dtype=int64)"
      ]
     },
     "execution_count": 309,
     "metadata": {},
     "output_type": "execute_result"
    }
   ],
   "source": [
    "SVpred = SV.predict(x_test)\n",
    "accu = classification_report(y_test,SVpred)\n",
    "conf_matrx = confusion_matrix(y_test,SVpred)\n",
    "conf_matrx"
   ]
  },
  {
   "cell_type": "code",
   "execution_count": 310,
   "id": "13ca8a2e",
   "metadata": {},
   "outputs": [
    {
     "name": "stdout",
     "output_type": "stream",
     "text": [
      "              precision    recall  f1-score   support\n",
      "\n",
      "           0       0.83      0.96      0.89       167\n",
      "           1       0.92      0.66      0.77       101\n",
      "\n",
      "    accuracy                           0.85       268\n",
      "   macro avg       0.87      0.81      0.83       268\n",
      "weighted avg       0.86      0.85      0.84       268\n",
      "\n"
     ]
    }
   ],
   "source": [
    "print(accu)"
   ]
  },
  {
   "cell_type": "markdown",
   "id": "b888432d",
   "metadata": {},
   "source": [
    "K Nearest Neighbours Classifier Model Accuracy"
   ]
  },
  {
   "cell_type": "code",
   "execution_count": 311,
   "id": "a02759a1",
   "metadata": {},
   "outputs": [
    {
     "data": {
      "text/plain": [
       "array([[154,  13],\n",
       "       [ 30,  71]], dtype=int64)"
      ]
     },
     "execution_count": 311,
     "metadata": {},
     "output_type": "execute_result"
    }
   ],
   "source": [
    "KNNpred = KNN.predict(x_test)\n",
    "accu = classification_report(y_test,KNNpred)\n",
    "conf_matrx = confusion_matrix(y_test,KNNpred)\n",
    "conf_matrx"
   ]
  },
  {
   "cell_type": "code",
   "execution_count": 312,
   "id": "27177dbd",
   "metadata": {},
   "outputs": [
    {
     "name": "stdout",
     "output_type": "stream",
     "text": [
      "              precision    recall  f1-score   support\n",
      "\n",
      "           0       0.84      0.92      0.88       167\n",
      "           1       0.85      0.70      0.77       101\n",
      "\n",
      "    accuracy                           0.84       268\n",
      "   macro avg       0.84      0.81      0.82       268\n",
      "weighted avg       0.84      0.84      0.84       268\n",
      "\n"
     ]
    }
   ],
   "source": [
    "print(accu)"
   ]
  },
  {
   "cell_type": "markdown",
   "id": "8842f577",
   "metadata": {},
   "source": [
    "# Model Cross Validation"
   ]
  },
  {
   "cell_type": "code",
   "execution_count": 313,
   "id": "6c3e1051",
   "metadata": {},
   "outputs": [],
   "source": [
    "from sklearn.model_selection import cross_val_score as cvs"
   ]
  },
  {
   "cell_type": "code",
   "execution_count": 314,
   "id": "2d49251c",
   "metadata": {},
   "outputs": [
    {
     "name": "stdout",
     "output_type": "stream",
     "text": [
      "0.770332033875521\n"
     ]
    }
   ],
   "source": [
    "# Decision Tree Classifier\n",
    "print(cvs(DTC,scaled_X,y,cv=5).mean())  "
   ]
  },
  {
   "cell_type": "code",
   "execution_count": 315,
   "id": "fab43cdd",
   "metadata": {},
   "outputs": [
    {
     "name": "stdout",
     "output_type": "stream",
     "text": [
      "0.7888560290361608\n"
     ]
    }
   ],
   "source": [
    "#Logistic Regression\n",
    "print(cvs(LOGR,scaled_X,y,cv=5).mean()) "
   ]
  },
  {
   "cell_type": "code",
   "execution_count": 316,
   "id": "9391285e",
   "metadata": {},
   "outputs": [
    {
     "name": "stdout",
     "output_type": "stream",
     "text": [
      "0.7958731012232827\n"
     ]
    }
   ],
   "source": [
    "#Random Forest Classifier\n",
    "print(cvs(RFC,scaled_X,y,cv=5).mean())"
   ]
  },
  {
   "cell_type": "code",
   "execution_count": 317,
   "id": "9e5d20da",
   "metadata": {},
   "outputs": [
    {
     "name": "stdout",
     "output_type": "stream",
     "text": [
      "0.8155464444145718\n"
     ]
    }
   ],
   "source": [
    "#SV Classifier\n",
    "print(cvs(SV,scaled_X,y,cv=5).mean())"
   ]
  },
  {
   "cell_type": "code",
   "execution_count": 318,
   "id": "bdc46cb0",
   "metadata": {},
   "outputs": [
    {
     "name": "stdout",
     "output_type": "stream",
     "text": [
      "0.8121857776582875\n"
     ]
    }
   ],
   "source": [
    "#K Nearest Neighbours Classifier\n",
    "print(cvs(KNN,scaled_X,y,cv=5).mean())"
   ]
  },
  {
   "cell_type": "markdown",
   "id": "6fe96b74",
   "metadata": {},
   "source": [
    "# ROC AUC Scores\n",
    "#Decision Tree Classifier"
   ]
  },
  {
   "cell_type": "code",
   "execution_count": 319,
   "id": "a9c29b2d",
   "metadata": {},
   "outputs": [
    {
     "data": {
      "text/plain": [
       "0.8103693602893223"
      ]
     },
     "execution_count": 319,
     "metadata": {},
     "output_type": "execute_result"
    }
   ],
   "source": [
    "roc_auc_score(y_test,DTCpred)"
   ]
  },
  {
   "cell_type": "code",
   "execution_count": 320,
   "id": "297df16b",
   "metadata": {},
   "outputs": [
    {
     "data": {
      "text/plain": [
       "0.826258374340428"
      ]
     },
     "execution_count": 320,
     "metadata": {},
     "output_type": "execute_result"
    }
   ],
   "source": [
    "#Logistic Regression\n",
    "roc_auc_score(y_test,LOGRpred)"
   ]
  },
  {
   "cell_type": "code",
   "execution_count": 321,
   "id": "c434795b",
   "metadata": {},
   "outputs": [
    {
     "data": {
      "text/plain": [
       "0.8540048615640006"
      ]
     },
     "execution_count": 321,
     "metadata": {},
     "output_type": "execute_result"
    }
   ],
   "source": [
    "#Random Forest Classifier\n",
    "roc_auc_score(y_test,RFCpred)"
   ]
  },
  {
   "cell_type": "code",
   "execution_count": 322,
   "id": "648a95f2",
   "metadata": {},
   "outputs": [
    {
     "data": {
      "text/plain": [
       "0.8137190964605443"
      ]
     },
     "execution_count": 322,
     "metadata": {},
     "output_type": "execute_result"
    }
   ],
   "source": [
    "#SV Classifier\n",
    "roc_auc_score(y_test,SVpred)"
   ]
  },
  {
   "cell_type": "code",
   "execution_count": 323,
   "id": "33a393e2",
   "metadata": {},
   "outputs": [
    {
     "data": {
      "text/plain": [
       "0.8125629928262287"
      ]
     },
     "execution_count": 323,
     "metadata": {},
     "output_type": "execute_result"
    }
   ],
   "source": [
    "#K Nearest Neighbours Classifier\n",
    "roc_auc_score(y_test,KNNpred)"
   ]
  },
  {
   "cell_type": "markdown",
   "id": "55f27c69",
   "metadata": {},
   "source": [
    "Random Forest Classifier is the best model for the dataset"
   ]
  },
  {
   "cell_type": "markdown",
   "id": "e2ee1123",
   "metadata": {},
   "source": [
    "# ROC AUC curves"
   ]
  },
  {
   "cell_type": "code",
   "execution_count": 324,
   "id": "9e414e66",
   "metadata": {},
   "outputs": [
    {
     "data": {
      "image/png": "[encoded data removed]",
      "text/plain": [
       "<Figure size 432x288 with 1 Axes>"
      ]
     },
     "metadata": {
      "needs_background": "light"
     },
     "output_type": "display_data"
    }
   ],
   "source": [
    "disp = plot_roc_curve(DTC,x_test,y_test)\n",
    "mod = [LOGR,RFC,SV,KNN]\n",
    "for i in mod:\n",
    "    plot_roc_curve(i,x_test,y_test, ax=disp.ax_)\n",
    "plt.legend(prop={'size':10}, loc = 'lower right')\n",
    "plt.show()"
   ]
  },
  {
   "cell_type": "markdown",
   "id": "f7d69252",
   "metadata": {},
   "source": [
    "# Hyper Parameter Tuning"
   ]
  },
  {
   "cell_type": "code",
   "execution_count": 325,
   "id": "5d3caa37",
   "metadata": {},
   "outputs": [],
   "source": [
    "from sklearn.model_selection import GridSearchCV"
   ]
  },
  {
   "cell_type": "code",
   "execution_count": 327,
   "id": "981439c8",
   "metadata": {},
   "outputs": [
    {
     "data": {
      "text/plain": [
       "GridSearchCV(cv=5, estimator=RandomForestClassifier(), n_jobs=-1,\n",
       "             param_grid={'criterion': ['gini', 'entropy'],\n",
       "                         'max_depth': [10, 20, 40, 60, 80],\n",
       "                         'max_features': ['auto', 'sqrt', 'log2'],\n",
       "                         'min_samples_leaf': [5, 10, 15, 20, 30],\n",
       "                         'min_samples_split': [2, 5, 10, 20],\n",
       "                         'n_estimators': [30, 50, 60]})"
      ]
     },
     "execution_count": 327,
     "metadata": {},
     "output_type": "execute_result"
    }
   ],
   "source": [
    "#Random Forest Classifier\n",
    "parameter = {'n_estimators':[30,50,60],'max_depth': [10,20,40,60,80],'min_samples_leaf':[5,10,15,20,30],'min_samples_split':[2,5,10,20],'criterion':['gini','entropy'],'max_features':[\"auto\",\"sqrt\",\"log2\"]}\n",
    "GridCV = GridSearchCV(RandomForestClassifier(),parameter,cv=5,n_jobs = -1)\n",
    "GridCV.fit(x_train,y_train)"
   ]
  },
  {
   "cell_type": "code",
   "execution_count": 328,
   "id": "539e5870",
   "metadata": {},
   "outputs": [
    {
     "data": {
      "text/plain": [
       "{'criterion': 'entropy',\n",
       " 'max_depth': 40,\n",
       " 'max_features': 'log2',\n",
       " 'min_samples_leaf': 5,\n",
       " 'min_samples_split': 5,\n",
       " 'n_estimators': 50}"
      ]
     },
     "execution_count": 328,
     "metadata": {},
     "output_type": "execute_result"
    }
   ],
   "source": [
    "GridCV.best_params_"
   ]
  },
  {
   "cell_type": "code",
   "execution_count": 329,
   "id": "4150129c",
   "metadata": {},
   "outputs": [
    {
     "name": "stdout",
     "output_type": "stream",
     "text": [
      "87.31343283582089\n"
     ]
    }
   ],
   "source": [
    "Best_mod1 = RandomForestClassifier(n_estimators = 60,criterion = 'gini', max_depth= 10, max_features = 'log2',min_samples_leaf = 5, min_samples_split = 2)\n",
    "Best_mod1.fit(x_train,y_train)\n",
    "rfpred = Best_mod1.predict(x_test)\n",
    "acc = accuracy_score(y_test,rfpred)\n",
    "print(acc*100)"
   ]
  },
  {
   "cell_type": "code",
   "execution_count": 330,
   "id": "8a9599a5",
   "metadata": {},
   "outputs": [
    {
     "data": {
      "text/plain": [
       "array([[158,   9],\n",
       "       [ 25,  76]], dtype=int64)"
      ]
     },
     "execution_count": 330,
     "metadata": {},
     "output_type": "execute_result"
    }
   ],
   "source": [
    "conf_matrx = confusion_matrix(y_test,rfpred)\n",
    "conf_matrx"
   ]
  },
  {
   "cell_type": "code",
   "execution_count": 331,
   "id": "291b9d07",
   "metadata": {},
   "outputs": [
    {
     "name": "stdout",
     "output_type": "stream",
     "text": [
      "              precision    recall  f1-score   support\n",
      "\n",
      "           0       0.86      0.95      0.90       167\n",
      "           1       0.89      0.75      0.82       101\n",
      "\n",
      "    accuracy                           0.87       268\n",
      "   macro avg       0.88      0.85      0.86       268\n",
      "weighted avg       0.87      0.87      0.87       268\n",
      "\n"
     ]
    }
   ],
   "source": [
    "cr = classification_report(y_test,rfpred)\n",
    "print(cr)"
   ]
  },
  {
   "cell_type": "code",
   "execution_count": 332,
   "id": "11e4e267",
   "metadata": {},
   "outputs": [
    {
     "data": {
      "text/plain": [
       "['BestModelTitanic.pkl']"
      ]
     },
     "execution_count": 332,
     "metadata": {},
     "output_type": "execute_result"
    }
   ],
   "source": [
    "import joblib\n",
    "joblib.dump(Best_mod1,\"BestModelTitanic.pkl\")"
   ]
  },
  {
   "cell_type": "markdown",
   "id": "48238550",
   "metadata": {},
   "source": [
    "# Loading The Model"
   ]
  },
  {
   "cell_type": "code",
   "execution_count": 333,
   "id": "fa3d4fe2",
   "metadata": {},
   "outputs": [],
   "source": [
    "mod=joblib.load(\"BestModelTitanic.pkl\")"
   ]
  },
  {
   "cell_type": "code",
   "execution_count": 334,
   "id": "66297456",
   "metadata": {},
   "outputs": [
    {
     "name": "stdout",
     "output_type": "stream",
     "text": [
      "[0 1 1 0 0 0 0 1 0 0 0 0 1 0 0 0 0 1 1 0 0 1 1 1 1 0 0 0 1 0 0 0 1 0 0 0 0\n",
      " 1 1 1 0 0 1 0 0 0 0 0 1 1 1 1 1 0 0 0 1 0 0 1 0 0 0 0 1 0 1 1 0 1 0 0 0 0\n",
      " 0 0 0 0 0 0 1 0 0 0 0 0 0 0 0 0 0 0 0 1 0 0 1 0 0 0 1 0 0 1 1 1 1 1 0 1 1\n",
      " 0 0 1 0 0 0 0 0 0 0 0 0 0 1 1 0 1 1 1 0 0 1 0 0 0 0 1 0 0 0 0 0 1 0 0 1 0\n",
      " 0 0 0 1 0 0 1 0 1 0 1 1 0 0 1 0 0 0 1 0 0 0 0 1 0 0 0 1 0 1 0 1 1 0 0 0 1\n",
      " 1 1 0 1 1 0 0 0 0 0 0 0 0 0 1 1 1 0 0 0 0 0 1 1 0 0 0 0 0 0 0 0 0 1 1 0 0\n",
      " 0 0 0 1 1 1 0 0 0 0 0 0 0 1 0 1 0 0 0 0 0 0 1 0 0 1 0 1 0 0 0 1 0 0 0 0 0\n",
      " 0 0 1 1 0 1 0 0 1]\n"
     ]
    }
   ],
   "source": [
    "print(mod.predict(x_test))"
   ]
  },
  {
   "cell_type": "code",
   "execution_count": null,
   "id": "77e2a5f2",
   "metadata": {},
   "outputs": [],
   "source": []
  }
 ],
 "metadata": {
  "kernelspec": {
   "display_name": "Python 3 (ipykernel)",
   "language": "python",
   "name": "python3"
  },
  "language_info": {
   "codemirror_mode": {
    "name": "ipython",
    "version": 3
   },
   "file_extension": ".py",
   "mimetype": "text/x-python",
   "name": "python",
   "nbconvert_exporter": "python",
   "pygments_lexer": "ipython3",
   "version": "3.9.12"
  }
 },
 "nbformat": 4,
 "nbformat_minor": 5
}
